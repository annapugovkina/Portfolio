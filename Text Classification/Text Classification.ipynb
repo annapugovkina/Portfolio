{
 "cells": [
  {
   "cell_type": "markdown",
   "metadata": {
    "toc": true
   },
   "source": [
    "<h1>Содержание<span class=\"tocSkip\"></span></h1>\n",
    "<div class=\"toc\"><ul class=\"toc-item\"><li><span><a href=\"#Описание-проекта\" data-toc-modified-id=\"Описание-проекта-1\"><span class=\"toc-item-num\">1&nbsp;&nbsp;</span>Описание проекта</a></span></li><li><span><a href=\"#Описание-данных\" data-toc-modified-id=\"Описание-данных-2\"><span class=\"toc-item-num\">2&nbsp;&nbsp;</span>Описание данных</a></span></li><li><span><a href=\"#План-выполнение-проекта-и-перечень-основных-задач\" data-toc-modified-id=\"План-выполнение-проекта-и-перечень-основных-задач-3\"><span class=\"toc-item-num\">3&nbsp;&nbsp;</span>План выполнение проекта и перечень основных задач</a></span></li><li><span><a href=\"#Загрузка-и-подготовка-данных\" data-toc-modified-id=\"Загрузка-и-подготовка-данных-4\"><span class=\"toc-item-num\">4&nbsp;&nbsp;</span>Загрузка и подготовка данных</a></span><ul class=\"toc-item\"><li><span><a href=\"#Файл-с-данными-и-общая-информация-о-датасете\" data-toc-modified-id=\"Файл-с-данными-и-общая-информация-о-датасете-4.1\"><span class=\"toc-item-num\">4.1&nbsp;&nbsp;</span>Файл с данными и общая информация о датасете</a></span></li><li><span><a href=\"#Предобработка-данных\" data-toc-modified-id=\"Предобработка-данных-4.2\"><span class=\"toc-item-num\">4.2&nbsp;&nbsp;</span>Предобработка данных</a></span><ul class=\"toc-item\"><li><span><a href=\"#Проверка-пропущенных-значений-и-дубликатов\" data-toc-modified-id=\"Проверка-пропущенных-значений-и-дубликатов-4.2.1\"><span class=\"toc-item-num\">4.2.1&nbsp;&nbsp;</span>Проверка пропущенных значений и дубликатов</a></span></li><li><span><a href=\"#Проверка-наличия-дисбаланса-классов\" data-toc-modified-id=\"Проверка-наличия-дисбаланса-классов-4.2.2\"><span class=\"toc-item-num\">4.2.2&nbsp;&nbsp;</span>Проверка наличия дисбаланса классов</a></span></li></ul></li><li><span><a href=\"#Лемматизация-и-регулярные-выражения\" data-toc-modified-id=\"Лемматизация-и-регулярные-выражения-4.3\"><span class=\"toc-item-num\">4.3&nbsp;&nbsp;</span>Лемматизация и регулярные выражения</a></span></li></ul></li><li><span><a href=\"#Обучение\" data-toc-modified-id=\"Обучение-5\"><span class=\"toc-item-num\">5&nbsp;&nbsp;</span>Обучение</a></span><ul class=\"toc-item\"><li><span><a href=\"#Подготовка-данных\" data-toc-modified-id=\"Подготовка-данных-5.1\"><span class=\"toc-item-num\">5.1&nbsp;&nbsp;</span>Подготовка данных</a></span></li><li><span><a href=\"#Модель-логистической-регресии\" data-toc-modified-id=\"Модель-логистической-регресии-5.2\"><span class=\"toc-item-num\">5.2&nbsp;&nbsp;</span>Модель логистической регресии</a></span></li><li><span><a href=\"#Модель-CatBoostClassifier\" data-toc-modified-id=\"Модель-CatBoostClassifier-5.3\"><span class=\"toc-item-num\">5.3&nbsp;&nbsp;</span>Модель CatBoostClassifier</a></span></li><li><span><a href=\"#Выбор-оптимальной-модели\" data-toc-modified-id=\"Выбор-оптимальной-модели-5.4\"><span class=\"toc-item-num\">5.4&nbsp;&nbsp;</span>Выбор оптимальной модели</a></span></li><li><span><a href=\"#Проверка-на-тестовой-выборке\" data-toc-modified-id=\"Проверка-на-тестовой-выборке-5.5\"><span class=\"toc-item-num\">5.5&nbsp;&nbsp;</span>Проверка на тестовой выборке</a></span></li></ul></li><li><span><a href=\"#Общий-вывод\" data-toc-modified-id=\"Общий-вывод-6\"><span class=\"toc-item-num\">6&nbsp;&nbsp;</span>Общий вывод</a></span></li></ul></div>"
   ]
  },
  {
   "cell_type": "markdown",
   "metadata": {},
   "source": [
    "# Проект по классификации тональности текстовых комментариев"
   ]
  },
  {
   "cell_type": "markdown",
   "metadata": {},
   "source": [
    "## Описание проекта"
   ]
  },
  {
   "cell_type": "markdown",
   "metadata": {},
   "source": [
    "Интернет-магазин запускает новый сервис. Теперь пользователи могут редактировать и дополнять описания товаров, как в вики-сообществах. То есть клиенты предлагают свои правки и комментируют изменения других. Магазину нужен инструмент, который будет искать токсичные комментарии и отправлять их на модерацию. \n",
    "\n",
    "Необходимо обучить модель классифицировать комментарии на позитивные и негативные. В распоряжении набор данных с разметкой о токсичности правок.\n",
    "\n",
    "Метрика качества *F1* не меньше 0.75. "
   ]
  },
  {
   "cell_type": "markdown",
   "metadata": {},
   "source": [
    "## Описание данных"
   ]
  },
  {
   "cell_type": "markdown",
   "metadata": {},
   "source": [
    "Данные находятся в файле `toxic_comments.csv`. Столбец *text* в нём содержит текст комментария, а *toxic* — целевой признак."
   ]
  },
  {
   "cell_type": "markdown",
   "metadata": {},
   "source": [
    "## План выполнение проекта и перечень основных задач"
   ]
  },
  {
   "cell_type": "markdown",
   "metadata": {},
   "source": [
    "**Краткий план выполнения проекта**\n",
    "\n",
    "1. Загрузить и подготовить данные;\n",
    "2. Обучить разные модели;\n",
    "3. Выбрать оптимальную модель;\n",
    "4. Сделать выводы.\n"
   ]
  },
  {
   "cell_type": "markdown",
   "metadata": {},
   "source": [
    "## Загрузка и подготовка данных"
   ]
  },
  {
   "cell_type": "markdown",
   "metadata": {},
   "source": [
    "### Файл с данными и общая информация о датасете"
   ]
  },
  {
   "cell_type": "markdown",
   "metadata": {},
   "source": [
    "Загрузим требуемые для работы библиотеки, прочитаем csv-файл с данными и посмотрим общую информацию о датасете."
   ]
  },
  {
   "cell_type": "code",
   "execution_count": 1,
   "metadata": {},
   "outputs": [
    {
     "name": "stderr",
     "output_type": "stream",
     "text": [
      "[nltk_data] Downloading package stopwords to /home/jovyan/nltk_data...\n",
      "[nltk_data]   Package stopwords is already up-to-date!\n"
     ]
    }
   ],
   "source": [
    "# импортируем необходимые в работе библиотеки\n",
    "import pandas as pd\n",
    "import numpy as np\n",
    "import matplotlib.pyplot as plt\n",
    "import re\n",
    "\n",
    "import spacy\n",
    "\n",
    "from sklearn.feature_extraction.text import CountVectorizer, TfidfVectorizer \n",
    "from sklearn.linear_model import LogisticRegression\n",
    "from catboost import CatBoostClassifier\n",
    "\n",
    "from nltk.corpus import stopwords\n",
    "import nltk\n",
    "nltk.download('stopwords')\n",
    "\n",
    "from sklearn.model_selection import train_test_split, GridSearchCV\n",
    "\n",
    "from sklearn.metrics import f1_score\n",
    "\n",
    "import random\n",
    "from sklearn.utils import shuffle"
   ]
  },
  {
   "cell_type": "code",
   "execution_count": 2,
   "metadata": {},
   "outputs": [],
   "source": [
    "# выделение в переменную random state\n",
    "RANDOM_STATE=12345"
   ]
  },
  {
   "cell_type": "code",
   "execution_count": 3,
   "metadata": {},
   "outputs": [],
   "source": [
    "# чтение файла, сохранение данных в переменной data\n",
    "\n",
    "data = pd.read_csv('/datasets/toxic_comments.csv')"
   ]
  },
  {
   "cell_type": "code",
   "execution_count": 4,
   "metadata": {},
   "outputs": [
    {
     "data": {
      "text/html": [
       "<div>\n",
       "<style scoped>\n",
       "    .dataframe tbody tr th:only-of-type {\n",
       "        vertical-align: middle;\n",
       "    }\n",
       "\n",
       "    .dataframe tbody tr th {\n",
       "        vertical-align: top;\n",
       "    }\n",
       "\n",
       "    .dataframe thead th {\n",
       "        text-align: right;\n",
       "    }\n",
       "</style>\n",
       "<table border=\"1\" class=\"dataframe\">\n",
       "  <thead>\n",
       "    <tr style=\"text-align: right;\">\n",
       "      <th></th>\n",
       "      <th>Unnamed: 0</th>\n",
       "      <th>text</th>\n",
       "      <th>toxic</th>\n",
       "    </tr>\n",
       "  </thead>\n",
       "  <tbody>\n",
       "    <tr>\n",
       "      <th>0</th>\n",
       "      <td>0</td>\n",
       "      <td>Explanation\\nWhy the edits made under my usern...</td>\n",
       "      <td>0</td>\n",
       "    </tr>\n",
       "    <tr>\n",
       "      <th>1</th>\n",
       "      <td>1</td>\n",
       "      <td>D'aww! He matches this background colour I'm s...</td>\n",
       "      <td>0</td>\n",
       "    </tr>\n",
       "    <tr>\n",
       "      <th>2</th>\n",
       "      <td>2</td>\n",
       "      <td>Hey man, I'm really not trying to edit war. It...</td>\n",
       "      <td>0</td>\n",
       "    </tr>\n",
       "    <tr>\n",
       "      <th>3</th>\n",
       "      <td>3</td>\n",
       "      <td>\"\\nMore\\nI can't make any real suggestions on ...</td>\n",
       "      <td>0</td>\n",
       "    </tr>\n",
       "    <tr>\n",
       "      <th>4</th>\n",
       "      <td>4</td>\n",
       "      <td>You, sir, are my hero. Any chance you remember...</td>\n",
       "      <td>0</td>\n",
       "    </tr>\n",
       "  </tbody>\n",
       "</table>\n",
       "</div>"
      ],
      "text/plain": [
       "   Unnamed: 0                                               text  toxic\n",
       "0           0  Explanation\\nWhy the edits made under my usern...      0\n",
       "1           1  D'aww! He matches this background colour I'm s...      0\n",
       "2           2  Hey man, I'm really not trying to edit war. It...      0\n",
       "3           3  \"\\nMore\\nI can't make any real suggestions on ...      0\n",
       "4           4  You, sir, are my hero. Any chance you remember...      0"
      ]
     },
     "execution_count": 4,
     "metadata": {},
     "output_type": "execute_result"
    }
   ],
   "source": [
    "# просмотр первых 5 строк с данными датасета\n",
    "data.head()"
   ]
  },
  {
   "cell_type": "code",
   "execution_count": 5,
   "metadata": {},
   "outputs": [
    {
     "name": "stdout",
     "output_type": "stream",
     "text": [
      "<class 'pandas.core.frame.DataFrame'>\n",
      "RangeIndex: 159292 entries, 0 to 159291\n",
      "Data columns (total 3 columns):\n",
      " #   Column      Non-Null Count   Dtype \n",
      "---  ------      --------------   ----- \n",
      " 0   Unnamed: 0  159292 non-null  int64 \n",
      " 1   text        159292 non-null  object\n",
      " 2   toxic       159292 non-null  int64 \n",
      "dtypes: int64(2), object(1)\n",
      "memory usage: 3.6+ MB\n"
     ]
    },
    {
     "data": {
      "text/plain": [
       "(159292, 3)"
      ]
     },
     "execution_count": 5,
     "metadata": {},
     "output_type": "execute_result"
    }
   ],
   "source": [
    "#вывод общей информации о датасете\n",
    "data.info()\n",
    "data.shape"
   ]
  },
  {
   "cell_type": "markdown",
   "metadata": {},
   "source": [
    "**Промежуточный вывод о датасете:** В представленном датасете содержатся данные о твитах. Текст твитов на английском языке. Всего 159 292 строк и 3 столбца, один из которых совпадает с нумерацией записей (Unnamed: 0), предположительно данный столбец не понадобится и можно будет его удалить."
   ]
  },
  {
   "cell_type": "markdown",
   "metadata": {},
   "source": [
    "### Предобработка данных"
   ]
  },
  {
   "cell_type": "markdown",
   "metadata": {},
   "source": [
    "Проверим потребуется какая-то преобработка данных в общем смысле. И далее перейдем к подготовке текста к ML."
   ]
  },
  {
   "cell_type": "markdown",
   "metadata": {},
   "source": [
    "#### Проверка пропущенных значений и дубликатов"
   ]
  },
  {
   "cell_type": "code",
   "execution_count": 6,
   "metadata": {},
   "outputs": [
    {
     "data": {
      "text/plain": [
       "Unnamed: 0    0\n",
       "text          0\n",
       "toxic         0\n",
       "dtype: int64"
      ]
     },
     "execution_count": 6,
     "metadata": {},
     "output_type": "execute_result"
    }
   ],
   "source": [
    "# проверка наличия пропущенных значений\n",
    "data.isna().sum()"
   ]
  },
  {
   "cell_type": "code",
   "execution_count": 7,
   "metadata": {},
   "outputs": [
    {
     "data": {
      "text/plain": [
       "0"
      ]
     },
     "execution_count": 7,
     "metadata": {},
     "output_type": "execute_result"
    }
   ],
   "source": [
    "# проверка на явные дубликаты\n",
    "data.duplicated().sum()"
   ]
  },
  {
   "cell_type": "code",
   "execution_count": 8,
   "metadata": {},
   "outputs": [],
   "source": [
    "# удаление признаков, неучаствующих в моделировании\n",
    "del data['Unnamed: 0']"
   ]
  },
  {
   "cell_type": "code",
   "execution_count": 9,
   "metadata": {},
   "outputs": [
    {
     "data": {
      "text/html": [
       "<div>\n",
       "<style scoped>\n",
       "    .dataframe tbody tr th:only-of-type {\n",
       "        vertical-align: middle;\n",
       "    }\n",
       "\n",
       "    .dataframe tbody tr th {\n",
       "        vertical-align: top;\n",
       "    }\n",
       "\n",
       "    .dataframe thead th {\n",
       "        text-align: right;\n",
       "    }\n",
       "</style>\n",
       "<table border=\"1\" class=\"dataframe\">\n",
       "  <thead>\n",
       "    <tr style=\"text-align: right;\">\n",
       "      <th></th>\n",
       "      <th>text</th>\n",
       "      <th>toxic</th>\n",
       "    </tr>\n",
       "  </thead>\n",
       "  <tbody>\n",
       "    <tr>\n",
       "      <th>0</th>\n",
       "      <td>Explanation\\nWhy the edits made under my usern...</td>\n",
       "      <td>0</td>\n",
       "    </tr>\n",
       "    <tr>\n",
       "      <th>1</th>\n",
       "      <td>D'aww! He matches this background colour I'm s...</td>\n",
       "      <td>0</td>\n",
       "    </tr>\n",
       "    <tr>\n",
       "      <th>2</th>\n",
       "      <td>Hey man, I'm really not trying to edit war. It...</td>\n",
       "      <td>0</td>\n",
       "    </tr>\n",
       "    <tr>\n",
       "      <th>3</th>\n",
       "      <td>\"\\nMore\\nI can't make any real suggestions on ...</td>\n",
       "      <td>0</td>\n",
       "    </tr>\n",
       "    <tr>\n",
       "      <th>4</th>\n",
       "      <td>You, sir, are my hero. Any chance you remember...</td>\n",
       "      <td>0</td>\n",
       "    </tr>\n",
       "  </tbody>\n",
       "</table>\n",
       "</div>"
      ],
      "text/plain": [
       "                                                text  toxic\n",
       "0  Explanation\\nWhy the edits made under my usern...      0\n",
       "1  D'aww! He matches this background colour I'm s...      0\n",
       "2  Hey man, I'm really not trying to edit war. It...      0\n",
       "3  \"\\nMore\\nI can't make any real suggestions on ...      0\n",
       "4  You, sir, are my hero. Any chance you remember...      0"
      ]
     },
     "execution_count": 9,
     "metadata": {},
     "output_type": "execute_result"
    }
   ],
   "source": [
    "# просмотр первых 5 строк с данными датасета\n",
    "data.head()"
   ]
  },
  {
   "cell_type": "markdown",
   "metadata": {},
   "source": [
    "#### Проверка наличия дисбаланса классов"
   ]
  },
  {
   "cell_type": "markdown",
   "metadata": {},
   "source": [
    "Посмотрим, как распределяются данные в столбце toxic по количеству подходящих и токстичных комментариев."
   ]
  },
  {
   "cell_type": "code",
   "execution_count": 10,
   "metadata": {},
   "outputs": [
    {
     "data": {
      "text/plain": [
       "0    143106\n",
       "1     16186\n",
       "Name: toxic, dtype: int64"
      ]
     },
     "execution_count": 10,
     "metadata": {},
     "output_type": "execute_result"
    }
   ],
   "source": [
    "# количество подходящих (0) и токсичных (1) комментариев\n",
    "data['toxic'].value_counts()"
   ]
  },
  {
   "cell_type": "code",
   "execution_count": 11,
   "metadata": {},
   "outputs": [
    {
     "data": {
      "image/png": "[encoded data removed]",
      "text/plain": [
       "<Figure size 504x504 with 1 Axes>"
      ]
     },
     "metadata": {},
     "output_type": "display_data"
    }
   ],
   "source": [
    "# визуализация на графике\n",
    "data['toxic'].value_counts().plot(y='toxic', kind='pie', figsize=(7,7), title='Доля токсичных комментариев в общем объеме комментариев');"
   ]
  },
  {
   "cell_type": "markdown",
   "metadata": {},
   "source": [
    "Исходя из анализа, видно, что присутствует дисбаланс классов: доля токсичных комментариев клиентов существенно ниже обычных комментариев (составляет 10% от общей доли комментариев). По логике так и должно быть в большинстве случаев. Но для корректных предсказаний модели будем устранять дисбаланс классов. "
   ]
  },
  {
   "cell_type": "markdown",
   "metadata": {},
   "source": [
    "### Лемматизация и регулярные выражения "
   ]
  },
  {
   "cell_type": "markdown",
   "metadata": {},
   "source": [
    "Текст на английском языке, поэтому переводить в Юникод не потребуется."
   ]
  },
  {
   "cell_type": "code",
   "execution_count": 13,
   "metadata": {},
   "outputs": [],
   "source": [
    "# приведение текста к нижнему регистру\n",
    "data['text'] = data['text'].str.lower()"
   ]
  },
  {
   "cell_type": "code",
   "execution_count": 14,
   "metadata": {},
   "outputs": [],
   "source": [
    "# использование spacy и загрузка модели «en»\n",
    "nlp = spacy.load(\"en_core_web_sm\")"
   ]
  },
  {
   "cell_type": "code",
   "execution_count": 15,
   "metadata": {},
   "outputs": [],
   "source": [
    "# функция лемматизации с использованием spacy\n",
    "\n",
    "def lemmatize(text):\n",
    "    doc = nlp(text)\n",
    "    tokens = []\n",
    "    for token in doc:\n",
    "        tokens.append(token)\n",
    "        \n",
    "    lemm_text = \" \".join([token.lemma_ for token in doc])\n",
    "        \n",
    "    return lemm_text\n",
    "\n",
    "# функция очистки текста от лишних символов\n",
    "\n",
    "def clear_text(text):\n",
    "    #text = re.sub(r'[\\n\\r]', ' ', text)\n",
    "    text = re.sub(r'[^a-zA-Z ]', ' ', text)\n",
    "    re_text = \" \".join(text.split())\n",
    "    \n",
    "    return re_text\n"
   ]
  },
  {
   "cell_type": "code",
   "execution_count": 16,
   "metadata": {},
   "outputs": [
    {
     "name": "stdout",
     "output_type": "stream",
     "text": [
      "CPU times: user 2.3 s, sys: 32.6 ms, total: 2.33 s\n",
      "Wall time: 2.34 s\n"
     ]
    },
    {
     "data": {
      "text/html": [
       "<div>\n",
       "<style scoped>\n",
       "    .dataframe tbody tr th:only-of-type {\n",
       "        vertical-align: middle;\n",
       "    }\n",
       "\n",
       "    .dataframe tbody tr th {\n",
       "        vertical-align: top;\n",
       "    }\n",
       "\n",
       "    .dataframe thead th {\n",
       "        text-align: right;\n",
       "    }\n",
       "</style>\n",
       "<table border=\"1\" class=\"dataframe\">\n",
       "  <thead>\n",
       "    <tr style=\"text-align: right;\">\n",
       "      <th></th>\n",
       "      <th>text</th>\n",
       "      <th>clear_text</th>\n",
       "    </tr>\n",
       "  </thead>\n",
       "  <tbody>\n",
       "    <tr>\n",
       "      <th>0</th>\n",
       "      <td>explanation\\nwhy the edits made under my usern...</td>\n",
       "      <td>explanation why the edits made under my userna...</td>\n",
       "    </tr>\n",
       "    <tr>\n",
       "      <th>1</th>\n",
       "      <td>d'aww! he matches this background colour i'm s...</td>\n",
       "      <td>d aww he matches this background colour i m se...</td>\n",
       "    </tr>\n",
       "    <tr>\n",
       "      <th>2</th>\n",
       "      <td>hey man, i'm really not trying to edit war. it...</td>\n",
       "      <td>hey man i m really not trying to edit war it s...</td>\n",
       "    </tr>\n",
       "    <tr>\n",
       "      <th>3</th>\n",
       "      <td>\"\\nmore\\ni can't make any real suggestions on ...</td>\n",
       "      <td>more i can t make any real suggestions on impr...</td>\n",
       "    </tr>\n",
       "    <tr>\n",
       "      <th>4</th>\n",
       "      <td>you, sir, are my hero. any chance you remember...</td>\n",
       "      <td>you sir are my hero any chance you remember wh...</td>\n",
       "    </tr>\n",
       "  </tbody>\n",
       "</table>\n",
       "</div>"
      ],
      "text/plain": [
       "                                                text  \\\n",
       "0  explanation\\nwhy the edits made under my usern...   \n",
       "1  d'aww! he matches this background colour i'm s...   \n",
       "2  hey man, i'm really not trying to edit war. it...   \n",
       "3  \"\\nmore\\ni can't make any real suggestions on ...   \n",
       "4  you, sir, are my hero. any chance you remember...   \n",
       "\n",
       "                                          clear_text  \n",
       "0  explanation why the edits made under my userna...  \n",
       "1  d aww he matches this background colour i m se...  \n",
       "2  hey man i m really not trying to edit war it s...  \n",
       "3  more i can t make any real suggestions on impr...  \n",
       "4  you sir are my hero any chance you remember wh...  "
      ]
     },
     "execution_count": 16,
     "metadata": {},
     "output_type": "execute_result"
    }
   ],
   "source": [
    "%%time\n",
    "\n",
    "# применение функции очистки текста, сохранение в переменные\n",
    "data['clear_text'] = data['text'].apply(clear_text)\n",
    "\n",
    "data[['text', 'clear_text']].head()"
   ]
  },
  {
   "cell_type": "code",
   "execution_count": 17,
   "metadata": {},
   "outputs": [
    {
     "name": "stdout",
     "output_type": "stream",
     "text": [
      "CPU times: user 40min 25s, sys: 5.72 s, total: 40min 31s\n",
      "Wall time: 40min 32s\n"
     ]
    },
    {
     "data": {
      "text/html": [
       "<div>\n",
       "<style scoped>\n",
       "    .dataframe tbody tr th:only-of-type {\n",
       "        vertical-align: middle;\n",
       "    }\n",
       "\n",
       "    .dataframe tbody tr th {\n",
       "        vertical-align: top;\n",
       "    }\n",
       "\n",
       "    .dataframe thead th {\n",
       "        text-align: right;\n",
       "    }\n",
       "</style>\n",
       "<table border=\"1\" class=\"dataframe\">\n",
       "  <thead>\n",
       "    <tr style=\"text-align: right;\">\n",
       "      <th></th>\n",
       "      <th>text</th>\n",
       "      <th>lemm_text</th>\n",
       "    </tr>\n",
       "  </thead>\n",
       "  <tbody>\n",
       "    <tr>\n",
       "      <th>0</th>\n",
       "      <td>explanation\\nwhy the edits made under my usern...</td>\n",
       "      <td>explanation why the edit make under my usernam...</td>\n",
       "    </tr>\n",
       "    <tr>\n",
       "      <th>1</th>\n",
       "      <td>d'aww! he matches this background colour i'm s...</td>\n",
       "      <td>d aww he match this background colour I m seem...</td>\n",
       "    </tr>\n",
       "    <tr>\n",
       "      <th>2</th>\n",
       "      <td>hey man, i'm really not trying to edit war. it...</td>\n",
       "      <td>hey man I m really not try to edit war it s ju...</td>\n",
       "    </tr>\n",
       "    <tr>\n",
       "      <th>3</th>\n",
       "      <td>\"\\nmore\\ni can't make any real suggestions on ...</td>\n",
       "      <td>more I can t make any real suggestion on impro...</td>\n",
       "    </tr>\n",
       "    <tr>\n",
       "      <th>4</th>\n",
       "      <td>you, sir, are my hero. any chance you remember...</td>\n",
       "      <td>you sir be my hero any chance you remember wha...</td>\n",
       "    </tr>\n",
       "  </tbody>\n",
       "</table>\n",
       "</div>"
      ],
      "text/plain": [
       "                                                text  \\\n",
       "0  explanation\\nwhy the edits made under my usern...   \n",
       "1  d'aww! he matches this background colour i'm s...   \n",
       "2  hey man, i'm really not trying to edit war. it...   \n",
       "3  \"\\nmore\\ni can't make any real suggestions on ...   \n",
       "4  you, sir, are my hero. any chance you remember...   \n",
       "\n",
       "                                           lemm_text  \n",
       "0  explanation why the edit make under my usernam...  \n",
       "1  d aww he match this background colour I m seem...  \n",
       "2  hey man I m really not try to edit war it s ju...  \n",
       "3  more I can t make any real suggestion on impro...  \n",
       "4  you sir be my hero any chance you remember wha...  "
      ]
     },
     "execution_count": 17,
     "metadata": {},
     "output_type": "execute_result"
    }
   ],
   "source": [
    "%%time\n",
    "\n",
    "# применение функции лемматизации, сохранение в переменные\n",
    "data['lemm_text'] = data['clear_text'].apply(lemmatize)\n",
    "\n",
    "data[['text', 'lemm_text']].head()"
   ]
  },
  {
   "cell_type": "markdown",
   "metadata": {},
   "source": [
    "## Обучение"
   ]
  },
  {
   "cell_type": "markdown",
   "metadata": {},
   "source": [
    "Магазину нужен инструмент, который будет искать токсичные комментарии и отправлять их на модерацию. Мы имеем набор данных с разметкой о токсичности правок (0 и 1). В этом случае решаем задачу классификации. Для сравнения будем использовать две модели: модель Логистической регрессии и бустинговую модель CatBoostClassifier."
   ]
  },
  {
   "cell_type": "markdown",
   "metadata": {},
   "source": [
    "### Подготовка данных"
   ]
  },
  {
   "cell_type": "code",
   "execution_count": 18,
   "metadata": {},
   "outputs": [],
   "source": [
    "# создание признаков и таргета\n",
    "features = data['lemm_text']\n",
    "target = data['toxic']"
   ]
  },
  {
   "cell_type": "code",
   "execution_count": 19,
   "metadata": {},
   "outputs": [
    {
     "data": {
      "text/plain": [
       "(127433,)"
      ]
     },
     "metadata": {},
     "output_type": "display_data"
    },
    {
     "data": {
      "text/plain": [
       "(31859,)"
      ]
     },
     "metadata": {},
     "output_type": "display_data"
    }
   ],
   "source": [
    "# разделение на обучающую и тестовую выборки\n",
    "features_train, features_test, target_train, target_test = train_test_split(features, target, test_size=0.2, shuffle=True, random_state=RANDOM_STATE)\n",
    "\n",
    "display(features_train.shape)\n",
    "display(features_test.shape)"
   ]
  },
  {
   "cell_type": "markdown",
   "metadata": {},
   "source": [
    "Устраним дисбаланс классов. Есть несколько способов. Опытным путем определено, что взвешивание классов не улучшает результирущие показатели модели. Увеличивать выборку не будет, так как размер текущего датасета достаточно большой. Поэтому сделаем объекты частого класса не такими частыми с помощью техники downsampling."
   ]
  },
  {
   "cell_type": "code",
   "execution_count": 20,
   "metadata": {},
   "outputs": [
    {
     "data": {
      "text/plain": [
       "(35851,)"
      ]
     },
     "metadata": {},
     "output_type": "display_data"
    },
    {
     "data": {
      "text/plain": [
       "(35851,)"
      ]
     },
     "metadata": {},
     "output_type": "display_data"
    }
   ],
   "source": [
    "# функция для уменьшения выборки более частого класса\n",
    "def downsample(features, target, fraction):\n",
    "    features_zeros = features[target == 0]\n",
    "    features_ones = features[target == 1]\n",
    "    target_zeros = target[target == 0]\n",
    "    target_ones = target[target == 1]\n",
    "\n",
    "    features_downsampled = pd.concat(\n",
    "        [features_zeros.sample(frac=fraction, random_state=12345)] + [features_ones])\n",
    "    target_downsampled = pd.concat(\n",
    "        [target_zeros.sample(frac=fraction, random_state=12345)] + [target_ones])\n",
    "    \n",
    "    features_downsampled, target_downsampled = shuffle(\n",
    "        features_downsampled, target_downsampled, random_state=12345)\n",
    "    \n",
    "    return features_downsampled, target_downsampled\n",
    "\n",
    "features_train_downsampled, target_train_downsampled = downsample(features_train, target_train, 0.20)\n",
    "\n",
    "display(features_train_downsampled.shape)\n",
    "display(target_train_downsampled.shape)\n"
   ]
  },
  {
   "cell_type": "code",
   "execution_count": 21,
   "metadata": {},
   "outputs": [],
   "source": [
    "# создадим корпус постов для обучающей выборки\n",
    "corpus_train = features_train_downsampled.values"
   ]
  },
  {
   "cell_type": "code",
   "execution_count": 22,
   "metadata": {},
   "outputs": [],
   "source": [
    "# создадим корпус постов для тестовой выборки\n",
    "corpus_test = features_test.values"
   ]
  },
  {
   "cell_type": "code",
   "execution_count": 23,
   "metadata": {},
   "outputs": [
    {
     "name": "stdout",
     "output_type": "stream",
     "text": [
      "  (0, 11402)\t0.31994957411051084\n",
      "  (0, 28943)\t0.34337053589934174\n",
      "  (0, 40107)\t0.36926790195207543\n",
      "  (0, 50848)\t0.32776951791437453\n",
      "  (0, 41003)\t0.3384734495247703\n",
      "  (0, 27921)\t0.16963375241653414\n",
      "  (0, 47100)\t0.5268851238827102\n",
      "  (0, 26484)\t0.3391009953624175\n",
      "  (1, 41931)\t0.05280466996004736\n",
      "  (1, 41542)\t0.07030176352459827\n",
      "  (1, 45362)\t0.07654668623194599\n",
      "  (1, 9114)\t0.06192692108066325\n",
      "  (1, 31877)\t0.0752981372688176\n",
      "  (1, 492)\t0.05513390247269622\n",
      "  (1, 47338)\t0.1340976689812094\n",
      "  (1, 20552)\t0.12700154604776953\n",
      "  (1, 32493)\t0.12348458796429254\n",
      "  (1, 44570)\t0.08781438691741854\n",
      "  (1, 34278)\t0.07901453135018753\n",
      "  (1, 39734)\t0.0663871254919563\n",
      "  (1, 42427)\t0.10509700783569767\n",
      "  (1, 55563)\t0.08319246962362582\n",
      "  (1, 55502)\t0.08348253825192614\n",
      "  (1, 39985)\t0.10816936581234941\n",
      "  (1, 23999)\t0.12348458796429254\n",
      "  :\t:\n",
      "  (35849, 47285)\t0.08071302152685728\n",
      "  (35849, 8268)\t0.2152442213934471\n",
      "  (35849, 41695)\t0.09434147593174885\n",
      "  (35849, 45224)\t0.18245714821464062\n",
      "  (35849, 52411)\t0.2393939741317045\n",
      "  (35849, 49094)\t0.0814967510533438\n",
      "  (35849, 55725)\t0.0967522461321162\n",
      "  (35849, 9267)\t0.08466659326472709\n",
      "  (35849, 50457)\t0.18931816825391512\n",
      "  (35849, 535)\t0.06068430323716693\n",
      "  (35849, 15340)\t0.051737560425670924\n",
      "  (35849, 56630)\t0.05410775374598866\n",
      "  (35849, 53738)\t0.16764486952843216\n",
      "  (35849, 18252)\t0.06435997842472221\n",
      "  (35849, 48270)\t0.07232606019487263\n",
      "  (35849, 9175)\t0.07764199282317992\n",
      "  (35850, 4860)\t0.5284596458829727\n",
      "  (35850, 44933)\t0.44449576126207\n",
      "  (35850, 45140)\t0.3820788920337805\n",
      "  (35850, 40250)\t0.31003493597219767\n",
      "  (35850, 42253)\t0.3154119275822413\n",
      "  (35850, 28842)\t0.2670590808950036\n",
      "  (35850, 50735)\t0.17517317361166607\n",
      "  (35850, 24983)\t0.2225090743537657\n",
      "  (35850, 27921)\t0.17334016833864077\n",
      "Размер мешка с учётом стоп-слов: (35851, 57776)\n"
     ]
    }
   ],
   "source": [
    "# создайте новый мешок слов с учётом стоп-слов\n",
    "stop_words = set(stopwords.words('english'))\n",
    "\n",
    "for w in corpus_train:\n",
    "    if w not in stop_words:\n",
    "        pass \n",
    "    \n",
    "# создание матрицы cо значениями TF-IDF по обучающей выборке с указанием стоп-слов, сохранение её в переменной tf_idf.\n",
    "count_vect = CountVectorizer(stop_words=stop_words)\n",
    "count_tf_idf = TfidfVectorizer(stop_words=stop_words)\n",
    "tf_idf_train = count_tf_idf.fit_transform(corpus_train) \n",
    "print(tf_idf_train)\n",
    "print(\"Размер мешка с учётом стоп-слов:\", tf_idf_train.shape)"
   ]
  },
  {
   "cell_type": "code",
   "execution_count": 24,
   "metadata": {},
   "outputs": [
    {
     "name": "stdout",
     "output_type": "stream",
     "text": [
      "  (0, 56705)\t0.18798162691928036\n",
      "  (0, 54126)\t0.2801311090538654\n",
      "  (0, 50731)\t0.18716382762099942\n",
      "  (0, 40681)\t0.20187308968217965\n",
      "  (0, 40169)\t0.27977119129786976\n",
      "  (0, 38756)\t0.19928322183539132\n",
      "  (0, 37472)\t0.29037718312688954\n",
      "  (0, 34206)\t0.2790594642493019\n",
      "  (0, 31828)\t0.2155695187035034\n",
      "  (0, 24038)\t0.3020159727753436\n",
      "  (0, 21126)\t0.22099423689910164\n",
      "  (0, 17385)\t0.1928081030949761\n",
      "  (0, 17156)\t0.29660105020380034\n",
      "  (0, 16975)\t0.4675020282000155\n",
      "  (1, 49730)\t0.24186856756398473\n",
      "  (1, 35070)\t0.7144858433726684\n",
      "  (1, 17692)\t0.6565131953316649\n",
      "  (2, 49730)\t0.1403845981803335\n",
      "  (2, 46164)\t0.2539545609793107\n",
      "  (2, 45966)\t0.212372661789445\n",
      "  (2, 32396)\t0.3094776305276182\n",
      "  (2, 27921)\t0.1543798473577182\n",
      "  (2, 24999)\t0.5239868903505629\n",
      "  (2, 24722)\t0.39947337266865557\n",
      "  (2, 16817)\t0.18210324668541075\n",
      "  :\t:\n",
      "  (31857, 25958)\t0.10029849316699326\n",
      "  (31857, 24774)\t0.17449970406285245\n",
      "  (31857, 24630)\t0.1439025504386868\n",
      "  (31857, 24547)\t0.14583662513260442\n",
      "  (31857, 22193)\t0.22103075424250124\n",
      "  (31857, 21422)\t0.1189891117799071\n",
      "  (31857, 20480)\t0.08623501013222742\n",
      "  (31857, 18275)\t0.15355301900566934\n",
      "  (31857, 17170)\t0.13168771094053552\n",
      "  (31857, 15995)\t0.11211137121317541\n",
      "  (31857, 15340)\t0.06813484120990454\n",
      "  (31857, 12709)\t0.08469695423469369\n",
      "  (31857, 10837)\t0.24430332203350685\n",
      "  (31857, 10826)\t0.12359941541291439\n",
      "  (31857, 10272)\t0.1327011689030922\n",
      "  (31857, 7491)\t0.09180142288309268\n",
      "  (31857, 3088)\t0.05905383015341536\n",
      "  (31857, 1649)\t0.1552285087167697\n",
      "  (31858, 46991)\t0.33841785269472763\n",
      "  (31858, 45096)\t0.31173749915771265\n",
      "  (31858, 40484)\t0.3230840926155209\n",
      "  (31858, 37945)\t0.32199767724386813\n",
      "  (31858, 25418)\t0.31532418881897784\n",
      "  (31858, 18438)\t0.6021856049605692\n",
      "  (31858, 10272)\t0.3437592277578462\n",
      "Размер мешка с учётом стоп-слов: (31859, 57776)\n"
     ]
    }
   ],
   "source": [
    "# создание матрицы cо значениями TF-IDF по тестовой выборке \n",
    "\n",
    "tf_idf_test = count_tf_idf.transform(corpus_test) \n",
    "print(tf_idf_test)\n",
    "print(\"Размер мешка с учётом стоп-слов:\", tf_idf_test.shape)"
   ]
  },
  {
   "cell_type": "code",
   "execution_count": 25,
   "metadata": {},
   "outputs": [],
   "source": [
    "# переименуем признаки в привычное название\n",
    "features_train=tf_idf_train\n",
    "features_test=tf_idf_test"
   ]
  },
  {
   "cell_type": "code",
   "execution_count": 26,
   "metadata": {},
   "outputs": [
    {
     "data": {
      "text/plain": [
       "<35851x57776 sparse matrix of type '<class 'numpy.float64'>'\n",
       "\twith 846332 stored elements in Compressed Sparse Row format>"
      ]
     },
     "metadata": {},
     "output_type": "display_data"
    },
    {
     "data": {
      "text/plain": [
       "<31859x57776 sparse matrix of type '<class 'numpy.float64'>'\n",
       "\twith 797560 stored elements in Compressed Sparse Row format>"
      ]
     },
     "metadata": {},
     "output_type": "display_data"
    },
    {
     "data": {
      "text/plain": [
       "111378    0\n",
       "36222     0\n",
       "101696    1\n",
       "90495     1\n",
       "2925      0\n",
       "         ..\n",
       "100941    0\n",
       "23991     0\n",
       "82464     0\n",
       "150069    0\n",
       "143852    0\n",
       "Name: toxic, Length: 35851, dtype: int64"
      ]
     },
     "metadata": {},
     "output_type": "display_data"
    },
    {
     "data": {
      "text/plain": [
       "109486    0\n",
       "104980    1\n",
       "82166     0\n",
       "18721     0\n",
       "128178    0\n",
       "         ..\n",
       "74512     0\n",
       "143247    1\n",
       "60432     0\n",
       "99864     0\n",
       "119194    0\n",
       "Name: toxic, Length: 31859, dtype: int64"
      ]
     },
     "metadata": {},
     "output_type": "display_data"
    }
   ],
   "source": [
    "# проверка размера признаков и таргерта\n",
    "display(features_train)\n",
    "display(features_test)\n",
    "display(target_train_downsampled)\n",
    "display(target_test)"
   ]
  },
  {
   "cell_type": "markdown",
   "metadata": {},
   "source": [
    "### Модель логистической регресии"
   ]
  },
  {
   "cell_type": "code",
   "execution_count": 27,
   "metadata": {},
   "outputs": [],
   "source": [
    "# параметры для GridSearchCV для модели логистической регрессии\n",
    "parameters_lr = {'C': (0.1, 1, 10), 'solver': ('newton-cg', 'lbfgs', 'liblinear')}"
   ]
  },
  {
   "cell_type": "code",
   "execution_count": 28,
   "metadata": {},
   "outputs": [
    {
     "name": "stderr",
     "output_type": "stream",
     "text": [
      "/opt/conda/lib/python3.9/site-packages/sklearn/linear_model/_logistic.py:763: ConvergenceWarning: lbfgs failed to converge (status=1):\n",
      "STOP: TOTAL NO. of ITERATIONS REACHED LIMIT.\n",
      "\n",
      "Increase the number of iterations (max_iter) or scale the data as shown in:\n",
      "    https://scikit-learn.org/stable/modules/preprocessing.html\n",
      "Please also refer to the documentation for alternative solver options:\n",
      "    https://scikit-learn.org/stable/modules/linear_model.html#logistic-regression\n",
      "  n_iter_i = _check_optimize_result(\n",
      "/opt/conda/lib/python3.9/site-packages/sklearn/linear_model/_logistic.py:763: ConvergenceWarning: lbfgs failed to converge (status=1):\n",
      "STOP: TOTAL NO. of ITERATIONS REACHED LIMIT.\n",
      "\n",
      "Increase the number of iterations (max_iter) or scale the data as shown in:\n",
      "    https://scikit-learn.org/stable/modules/preprocessing.html\n",
      "Please also refer to the documentation for alternative solver options:\n",
      "    https://scikit-learn.org/stable/modules/linear_model.html#logistic-regression\n",
      "  n_iter_i = _check_optimize_result(\n",
      "/opt/conda/lib/python3.9/site-packages/sklearn/linear_model/_logistic.py:763: ConvergenceWarning: lbfgs failed to converge (status=1):\n",
      "STOP: TOTAL NO. of ITERATIONS REACHED LIMIT.\n",
      "\n",
      "Increase the number of iterations (max_iter) or scale the data as shown in:\n",
      "    https://scikit-learn.org/stable/modules/preprocessing.html\n",
      "Please also refer to the documentation for alternative solver options:\n",
      "    https://scikit-learn.org/stable/modules/linear_model.html#logistic-regression\n",
      "  n_iter_i = _check_optimize_result(\n"
     ]
    },
    {
     "name": "stdout",
     "output_type": "stream",
     "text": [
      "{'C': 10, 'solver': 'lbfgs'}\n",
      "0.8599616886671194\n",
      "CPU times: user 59.1 s, sys: 2min 30s, total: 3min 30s\n",
      "Wall time: 3min 30s\n"
     ]
    },
    {
     "name": "stderr",
     "output_type": "stream",
     "text": [
      "/opt/conda/lib/python3.9/site-packages/sklearn/linear_model/_logistic.py:763: ConvergenceWarning: lbfgs failed to converge (status=1):\n",
      "STOP: TOTAL NO. of ITERATIONS REACHED LIMIT.\n",
      "\n",
      "Increase the number of iterations (max_iter) or scale the data as shown in:\n",
      "    https://scikit-learn.org/stable/modules/preprocessing.html\n",
      "Please also refer to the documentation for alternative solver options:\n",
      "    https://scikit-learn.org/stable/modules/linear_model.html#logistic-regression\n",
      "  n_iter_i = _check_optimize_result(\n"
     ]
    }
   ],
   "source": [
    "%%time\n",
    "\n",
    "# обучение и подбор гиперпараметров для модели LogisticRegression\n",
    "\n",
    "model_lr = LogisticRegression(random_state=RANDOM_STATE)\n",
    "grid_lr = GridSearchCV(model_lr, parameters_lr, cv=3, scoring='f1')\n",
    "grid_lr.fit(features_train, target_train_downsampled)\n",
    "print(grid_lr.best_params_)\n",
    "print(grid_lr.best_score_)\n"
   ]
  },
  {
   "cell_type": "code",
   "execution_count": 29,
   "metadata": {},
   "outputs": [
    {
     "data": {
      "text/html": [
       "<div>\n",
       "<style scoped>\n",
       "    .dataframe tbody tr th:only-of-type {\n",
       "        vertical-align: middle;\n",
       "    }\n",
       "\n",
       "    .dataframe tbody tr th {\n",
       "        vertical-align: top;\n",
       "    }\n",
       "\n",
       "    .dataframe thead th {\n",
       "        text-align: right;\n",
       "    }\n",
       "</style>\n",
       "<table border=\"1\" class=\"dataframe\">\n",
       "  <thead>\n",
       "    <tr style=\"text-align: right;\">\n",
       "      <th></th>\n",
       "      <th>mean_fit_time</th>\n",
       "      <th>std_fit_time</th>\n",
       "      <th>mean_score_time</th>\n",
       "      <th>std_score_time</th>\n",
       "      <th>param_C</th>\n",
       "      <th>param_solver</th>\n",
       "      <th>params</th>\n",
       "      <th>split0_test_score</th>\n",
       "      <th>split1_test_score</th>\n",
       "      <th>split2_test_score</th>\n",
       "      <th>mean_test_score</th>\n",
       "      <th>std_test_score</th>\n",
       "      <th>rank_test_score</th>\n",
       "    </tr>\n",
       "  </thead>\n",
       "  <tbody>\n",
       "    <tr>\n",
       "      <th>0</th>\n",
       "      <td>3.980833</td>\n",
       "      <td>0.058256</td>\n",
       "      <td>0.034885</td>\n",
       "      <td>0.041127</td>\n",
       "      <td>0.1</td>\n",
       "      <td>newton-cg</td>\n",
       "      <td>{'C': 0.1, 'solver': 'newton-cg'}</td>\n",
       "      <td>0.707068</td>\n",
       "      <td>0.718782</td>\n",
       "      <td>0.717014</td>\n",
       "      <td>0.714288</td>\n",
       "      <td>0.005156</td>\n",
       "      <td>8</td>\n",
       "    </tr>\n",
       "    <tr>\n",
       "      <th>1</th>\n",
       "      <td>9.700507</td>\n",
       "      <td>0.565918</td>\n",
       "      <td>0.095047</td>\n",
       "      <td>0.002029</td>\n",
       "      <td>0.1</td>\n",
       "      <td>lbfgs</td>\n",
       "      <td>{'C': 0.1, 'solver': 'lbfgs'}</td>\n",
       "      <td>0.707068</td>\n",
       "      <td>0.718782</td>\n",
       "      <td>0.717014</td>\n",
       "      <td>0.714288</td>\n",
       "      <td>0.005156</td>\n",
       "      <td>8</td>\n",
       "    </tr>\n",
       "    <tr>\n",
       "      <th>2</th>\n",
       "      <td>0.935148</td>\n",
       "      <td>0.124436</td>\n",
       "      <td>0.065047</td>\n",
       "      <td>0.040575</td>\n",
       "      <td>0.1</td>\n",
       "      <td>liblinear</td>\n",
       "      <td>{'C': 0.1, 'solver': 'liblinear'}</td>\n",
       "      <td>0.707068</td>\n",
       "      <td>0.720081</td>\n",
       "      <td>0.717949</td>\n",
       "      <td>0.715033</td>\n",
       "      <td>0.005699</td>\n",
       "      <td>7</td>\n",
       "    </tr>\n",
       "    <tr>\n",
       "      <th>3</th>\n",
       "      <td>5.692442</td>\n",
       "      <td>0.001414</td>\n",
       "      <td>0.005919</td>\n",
       "      <td>0.000211</td>\n",
       "      <td>1</td>\n",
       "      <td>newton-cg</td>\n",
       "      <td>{'C': 1, 'solver': 'newton-cg'}</td>\n",
       "      <td>0.828937</td>\n",
       "      <td>0.835984</td>\n",
       "      <td>0.840138</td>\n",
       "      <td>0.835020</td>\n",
       "      <td>0.004623</td>\n",
       "      <td>4</td>\n",
       "    </tr>\n",
       "    <tr>\n",
       "      <th>4</th>\n",
       "      <td>14.133016</td>\n",
       "      <td>1.552546</td>\n",
       "      <td>0.037636</td>\n",
       "      <td>0.040092</td>\n",
       "      <td>1</td>\n",
       "      <td>lbfgs</td>\n",
       "      <td>{'C': 1, 'solver': 'lbfgs'}</td>\n",
       "      <td>0.828937</td>\n",
       "      <td>0.835836</td>\n",
       "      <td>0.839990</td>\n",
       "      <td>0.834921</td>\n",
       "      <td>0.004558</td>\n",
       "      <td>5</td>\n",
       "    </tr>\n",
       "    <tr>\n",
       "      <th>5</th>\n",
       "      <td>1.771995</td>\n",
       "      <td>0.330732</td>\n",
       "      <td>0.095406</td>\n",
       "      <td>0.001645</td>\n",
       "      <td>1</td>\n",
       "      <td>liblinear</td>\n",
       "      <td>{'C': 1, 'solver': 'liblinear'}</td>\n",
       "      <td>0.828831</td>\n",
       "      <td>0.835878</td>\n",
       "      <td>0.839841</td>\n",
       "      <td>0.834850</td>\n",
       "      <td>0.004553</td>\n",
       "      <td>6</td>\n",
       "    </tr>\n",
       "    <tr>\n",
       "      <th>6</th>\n",
       "      <td>7.893019</td>\n",
       "      <td>0.420908</td>\n",
       "      <td>0.006951</td>\n",
       "      <td>0.001066</td>\n",
       "      <td>10</td>\n",
       "      <td>newton-cg</td>\n",
       "      <td>{'C': 10, 'solver': 'newton-cg'}</td>\n",
       "      <td>0.860716</td>\n",
       "      <td>0.858300</td>\n",
       "      <td>0.859956</td>\n",
       "      <td>0.859657</td>\n",
       "      <td>0.001009</td>\n",
       "      <td>3</td>\n",
       "    </tr>\n",
       "    <tr>\n",
       "      <th>7</th>\n",
       "      <td>13.731845</td>\n",
       "      <td>0.949055</td>\n",
       "      <td>0.064655</td>\n",
       "      <td>0.040555</td>\n",
       "      <td>10</td>\n",
       "      <td>lbfgs</td>\n",
       "      <td>{'C': 10, 'solver': 'lbfgs'}</td>\n",
       "      <td>0.860611</td>\n",
       "      <td>0.858334</td>\n",
       "      <td>0.860940</td>\n",
       "      <td>0.859962</td>\n",
       "      <td>0.001159</td>\n",
       "      <td>1</td>\n",
       "    </tr>\n",
       "    <tr>\n",
       "      <th>8</th>\n",
       "      <td>2.902613</td>\n",
       "      <td>0.078592</td>\n",
       "      <td>0.064729</td>\n",
       "      <td>0.040622</td>\n",
       "      <td>10</td>\n",
       "      <td>liblinear</td>\n",
       "      <td>{'C': 10, 'solver': 'liblinear'}</td>\n",
       "      <td>0.860611</td>\n",
       "      <td>0.858440</td>\n",
       "      <td>0.859956</td>\n",
       "      <td>0.859669</td>\n",
       "      <td>0.000909</td>\n",
       "      <td>2</td>\n",
       "    </tr>\n",
       "  </tbody>\n",
       "</table>\n",
       "</div>"
      ],
      "text/plain": [
       "   mean_fit_time  std_fit_time  mean_score_time  std_score_time param_C  \\\n",
       "0       3.980833      0.058256         0.034885        0.041127     0.1   \n",
       "1       9.700507      0.565918         0.095047        0.002029     0.1   \n",
       "2       0.935148      0.124436         0.065047        0.040575     0.1   \n",
       "3       5.692442      0.001414         0.005919        0.000211       1   \n",
       "4      14.133016      1.552546         0.037636        0.040092       1   \n",
       "5       1.771995      0.330732         0.095406        0.001645       1   \n",
       "6       7.893019      0.420908         0.006951        0.001066      10   \n",
       "7      13.731845      0.949055         0.064655        0.040555      10   \n",
       "8       2.902613      0.078592         0.064729        0.040622      10   \n",
       "\n",
       "  param_solver                             params  split0_test_score  \\\n",
       "0    newton-cg  {'C': 0.1, 'solver': 'newton-cg'}           0.707068   \n",
       "1        lbfgs      {'C': 0.1, 'solver': 'lbfgs'}           0.707068   \n",
       "2    liblinear  {'C': 0.1, 'solver': 'liblinear'}           0.707068   \n",
       "3    newton-cg    {'C': 1, 'solver': 'newton-cg'}           0.828937   \n",
       "4        lbfgs        {'C': 1, 'solver': 'lbfgs'}           0.828937   \n",
       "5    liblinear    {'C': 1, 'solver': 'liblinear'}           0.828831   \n",
       "6    newton-cg   {'C': 10, 'solver': 'newton-cg'}           0.860716   \n",
       "7        lbfgs       {'C': 10, 'solver': 'lbfgs'}           0.860611   \n",
       "8    liblinear   {'C': 10, 'solver': 'liblinear'}           0.860611   \n",
       "\n",
       "   split1_test_score  split2_test_score  mean_test_score  std_test_score  \\\n",
       "0           0.718782           0.717014         0.714288        0.005156   \n",
       "1           0.718782           0.717014         0.714288        0.005156   \n",
       "2           0.720081           0.717949         0.715033        0.005699   \n",
       "3           0.835984           0.840138         0.835020        0.004623   \n",
       "4           0.835836           0.839990         0.834921        0.004558   \n",
       "5           0.835878           0.839841         0.834850        0.004553   \n",
       "6           0.858300           0.859956         0.859657        0.001009   \n",
       "7           0.858334           0.860940         0.859962        0.001159   \n",
       "8           0.858440           0.859956         0.859669        0.000909   \n",
       "\n",
       "   rank_test_score  \n",
       "0                8  \n",
       "1                8  \n",
       "2                7  \n",
       "3                4  \n",
       "4                5  \n",
       "5                6  \n",
       "6                3  \n",
       "7                1  \n",
       "8                2  "
      ]
     },
     "metadata": {},
     "output_type": "display_data"
    },
    {
     "data": {
      "text/html": [
       "<div>\n",
       "<style scoped>\n",
       "    .dataframe tbody tr th:only-of-type {\n",
       "        vertical-align: middle;\n",
       "    }\n",
       "\n",
       "    .dataframe tbody tr th {\n",
       "        vertical-align: top;\n",
       "    }\n",
       "\n",
       "    .dataframe thead th {\n",
       "        text-align: right;\n",
       "    }\n",
       "</style>\n",
       "<table border=\"1\" class=\"dataframe\">\n",
       "  <thead>\n",
       "    <tr style=\"text-align: right;\">\n",
       "      <th></th>\n",
       "      <th>mean_fit_time</th>\n",
       "      <th>std_fit_time</th>\n",
       "      <th>mean_score_time</th>\n",
       "      <th>std_score_time</th>\n",
       "      <th>param_C</th>\n",
       "      <th>param_solver</th>\n",
       "      <th>params</th>\n",
       "      <th>split0_test_score</th>\n",
       "      <th>split1_test_score</th>\n",
       "      <th>split2_test_score</th>\n",
       "      <th>mean_test_score</th>\n",
       "      <th>std_test_score</th>\n",
       "      <th>rank_test_score</th>\n",
       "    </tr>\n",
       "  </thead>\n",
       "  <tbody>\n",
       "    <tr>\n",
       "      <th>7</th>\n",
       "      <td>13.731845</td>\n",
       "      <td>0.949055</td>\n",
       "      <td>0.064655</td>\n",
       "      <td>0.040555</td>\n",
       "      <td>10</td>\n",
       "      <td>lbfgs</td>\n",
       "      <td>{'C': 10, 'solver': 'lbfgs'}</td>\n",
       "      <td>0.860611</td>\n",
       "      <td>0.858334</td>\n",
       "      <td>0.86094</td>\n",
       "      <td>0.859962</td>\n",
       "      <td>0.001159</td>\n",
       "      <td>1</td>\n",
       "    </tr>\n",
       "  </tbody>\n",
       "</table>\n",
       "</div>"
      ],
      "text/plain": [
       "   mean_fit_time  std_fit_time  mean_score_time  std_score_time param_C  \\\n",
       "7      13.731845      0.949055         0.064655        0.040555      10   \n",
       "\n",
       "  param_solver                        params  split0_test_score  \\\n",
       "7        lbfgs  {'C': 10, 'solver': 'lbfgs'}           0.860611   \n",
       "\n",
       "   split1_test_score  split2_test_score  mean_test_score  std_test_score  \\\n",
       "7           0.858334            0.86094         0.859962        0.001159   \n",
       "\n",
       "   rank_test_score  \n",
       "7                1  "
      ]
     },
     "metadata": {},
     "output_type": "display_data"
    },
    {
     "name": "stdout",
     "output_type": "stream",
     "text": [
      "Fit_time_lr: 13.731844584147135, predict_time_lr: 0.06465474764506023\n"
     ]
    }
   ],
   "source": [
    "# вывод результатов\n",
    "results = pd.DataFrame(grid_lr.cv_results_)\n",
    "display(results)\n",
    "display(results[results['rank_test_score'] == 1])\n",
    "fit_time_lr = results[results['rank_test_score'] == 1]['mean_fit_time'].values[0]\n",
    "predict_time_lr = results[results['rank_test_score'] == 1]['mean_score_time'].values[0]\n",
    "print(f'Fit_time_lr: {fit_time_lr}, predict_time_lr: {predict_time_lr}')"
   ]
  },
  {
   "cell_type": "markdown",
   "metadata": {},
   "source": [
    "### Модель CatBoostClassifier"
   ]
  },
  {
   "cell_type": "code",
   "execution_count": 30,
   "metadata": {},
   "outputs": [],
   "source": [
    "# параметры для GridSearchCV для модели CatBoost\n",
    "parameters_cbc = {'iterations': range(20, 60, 20)}"
   ]
  },
  {
   "cell_type": "code",
   "execution_count": 31,
   "metadata": {},
   "outputs": [
    {
     "name": "stdout",
     "output_type": "stream",
     "text": [
      "Learning rate set to 0.5\n",
      "0:\tlearn: 0.5452935\ttotal: 860ms\tremaining: 16.3s\n",
      "1:\tlearn: 0.4783362\ttotal: 1.47s\tremaining: 13.2s\n",
      "2:\tlearn: 0.4440453\ttotal: 2.09s\tremaining: 11.8s\n",
      "3:\tlearn: 0.4217818\ttotal: 2.68s\tremaining: 10.7s\n",
      "4:\tlearn: 0.4074729\ttotal: 3.27s\tremaining: 9.81s\n",
      "5:\tlearn: 0.3951853\ttotal: 3.87s\tremaining: 9.02s\n",
      "6:\tlearn: 0.3840373\ttotal: 4.49s\tremaining: 8.33s\n",
      "7:\tlearn: 0.3746824\ttotal: 5.08s\tremaining: 7.63s\n",
      "8:\tlearn: 0.3669566\ttotal: 5.67s\tremaining: 6.93s\n",
      "9:\tlearn: 0.3615377\ttotal: 6.27s\tremaining: 6.27s\n",
      "10:\tlearn: 0.3559888\ttotal: 6.86s\tremaining: 5.61s\n",
      "11:\tlearn: 0.3497519\ttotal: 7.53s\tremaining: 5.02s\n",
      "12:\tlearn: 0.3455072\ttotal: 8.13s\tremaining: 4.38s\n",
      "13:\tlearn: 0.3404405\ttotal: 8.75s\tremaining: 3.75s\n",
      "14:\tlearn: 0.3357872\ttotal: 9.36s\tremaining: 3.12s\n",
      "15:\tlearn: 0.3301379\ttotal: 9.96s\tremaining: 2.49s\n",
      "16:\tlearn: 0.3269594\ttotal: 10.5s\tremaining: 1.86s\n",
      "17:\tlearn: 0.3236098\ttotal: 11.1s\tremaining: 1.24s\n",
      "18:\tlearn: 0.3185613\ttotal: 11.7s\tremaining: 617ms\n",
      "19:\tlearn: 0.3149367\ttotal: 12.3s\tremaining: 0us\n",
      "Learning rate set to 0.5\n",
      "0:\tlearn: 0.5490569\ttotal: 846ms\tremaining: 16.1s\n",
      "1:\tlearn: 0.4809159\ttotal: 1.46s\tremaining: 13.1s\n",
      "2:\tlearn: 0.4486198\ttotal: 2.06s\tremaining: 11.7s\n",
      "3:\tlearn: 0.4289541\ttotal: 2.68s\tremaining: 10.7s\n",
      "4:\tlearn: 0.4121790\ttotal: 3.28s\tremaining: 9.85s\n",
      "5:\tlearn: 0.3994098\ttotal: 3.89s\tremaining: 9.08s\n",
      "6:\tlearn: 0.3859797\ttotal: 4.49s\tremaining: 8.33s\n",
      "7:\tlearn: 0.3749216\ttotal: 5.09s\tremaining: 7.63s\n",
      "8:\tlearn: 0.3648228\ttotal: 5.71s\tremaining: 6.99s\n",
      "9:\tlearn: 0.3570041\ttotal: 6.32s\tremaining: 6.32s\n",
      "10:\tlearn: 0.3508148\ttotal: 6.92s\tremaining: 5.66s\n",
      "11:\tlearn: 0.3454190\ttotal: 7.51s\tremaining: 5.01s\n",
      "12:\tlearn: 0.3406859\ttotal: 8.1s\tremaining: 4.36s\n",
      "13:\tlearn: 0.3364058\ttotal: 8.7s\tremaining: 3.73s\n",
      "14:\tlearn: 0.3318829\ttotal: 9.3s\tremaining: 3.1s\n",
      "15:\tlearn: 0.3283470\ttotal: 9.89s\tremaining: 2.47s\n",
      "16:\tlearn: 0.3237029\ttotal: 10.5s\tremaining: 1.85s\n",
      "17:\tlearn: 0.3203147\ttotal: 11.1s\tremaining: 1.23s\n",
      "18:\tlearn: 0.3171160\ttotal: 11.7s\tremaining: 614ms\n",
      "19:\tlearn: 0.3142081\ttotal: 12.3s\tremaining: 0us\n",
      "Learning rate set to 0.5\n",
      "0:\tlearn: 0.5494010\ttotal: 805ms\tremaining: 15.3s\n",
      "1:\tlearn: 0.4914625\ttotal: 1.43s\tremaining: 12.8s\n",
      "2:\tlearn: 0.4573930\ttotal: 2.02s\tremaining: 11.4s\n",
      "3:\tlearn: 0.4337928\ttotal: 2.64s\tremaining: 10.6s\n",
      "4:\tlearn: 0.4183173\ttotal: 3.25s\tremaining: 9.77s\n",
      "5:\tlearn: 0.4028591\ttotal: 3.85s\tremaining: 8.99s\n",
      "6:\tlearn: 0.3936938\ttotal: 4.47s\tremaining: 8.3s\n",
      "7:\tlearn: 0.3789431\ttotal: 5.07s\tremaining: 7.6s\n",
      "8:\tlearn: 0.3702092\ttotal: 5.67s\tremaining: 6.93s\n",
      "9:\tlearn: 0.3623347\ttotal: 6.29s\tremaining: 6.29s\n",
      "10:\tlearn: 0.3562474\ttotal: 6.88s\tremaining: 5.63s\n",
      "11:\tlearn: 0.3523489\ttotal: 7.48s\tremaining: 4.99s\n",
      "12:\tlearn: 0.3460608\ttotal: 8.08s\tremaining: 4.35s\n",
      "13:\tlearn: 0.3417785\ttotal: 8.68s\tremaining: 3.72s\n",
      "14:\tlearn: 0.3372647\ttotal: 9.27s\tremaining: 3.09s\n",
      "15:\tlearn: 0.3321966\ttotal: 9.85s\tremaining: 2.46s\n",
      "16:\tlearn: 0.3283139\ttotal: 10.4s\tremaining: 1.84s\n",
      "17:\tlearn: 0.3232677\ttotal: 11s\tremaining: 1.22s\n",
      "18:\tlearn: 0.3196536\ttotal: 11.6s\tremaining: 610ms\n",
      "19:\tlearn: 0.3157603\ttotal: 12.2s\tremaining: 0us\n",
      "Learning rate set to 0.5\n",
      "0:\tlearn: 0.5452935\ttotal: 864ms\tremaining: 33.7s\n",
      "1:\tlearn: 0.4783362\ttotal: 1.49s\tremaining: 28.2s\n",
      "2:\tlearn: 0.4440453\ttotal: 2.07s\tremaining: 25.5s\n",
      "3:\tlearn: 0.4217818\ttotal: 2.66s\tremaining: 24s\n",
      "4:\tlearn: 0.4074729\ttotal: 3.27s\tremaining: 22.9s\n",
      "5:\tlearn: 0.3951853\ttotal: 3.88s\tremaining: 22s\n",
      "6:\tlearn: 0.3840373\ttotal: 4.48s\tremaining: 21.1s\n",
      "7:\tlearn: 0.3746824\ttotal: 5.05s\tremaining: 20.2s\n",
      "8:\tlearn: 0.3669566\ttotal: 5.65s\tremaining: 19.5s\n",
      "9:\tlearn: 0.3615377\ttotal: 6.25s\tremaining: 18.8s\n",
      "10:\tlearn: 0.3559888\ttotal: 6.87s\tremaining: 18.1s\n",
      "11:\tlearn: 0.3497519\ttotal: 7.46s\tremaining: 17.4s\n",
      "12:\tlearn: 0.3455072\ttotal: 8.04s\tremaining: 16.7s\n",
      "13:\tlearn: 0.3404405\ttotal: 8.64s\tremaining: 16s\n",
      "14:\tlearn: 0.3357872\ttotal: 9.23s\tremaining: 15.4s\n",
      "15:\tlearn: 0.3301379\ttotal: 9.81s\tremaining: 14.7s\n",
      "16:\tlearn: 0.3269594\ttotal: 10.4s\tremaining: 14.1s\n",
      "17:\tlearn: 0.3236098\ttotal: 11s\tremaining: 13.5s\n",
      "18:\tlearn: 0.3185613\ttotal: 11.6s\tremaining: 12.9s\n",
      "19:\tlearn: 0.3149367\ttotal: 12.2s\tremaining: 12.2s\n",
      "20:\tlearn: 0.3121003\ttotal: 12.8s\tremaining: 11.6s\n",
      "21:\tlearn: 0.3091815\ttotal: 13.4s\tremaining: 11s\n",
      "22:\tlearn: 0.3050868\ttotal: 14s\tremaining: 10.4s\n",
      "23:\tlearn: 0.3015959\ttotal: 14.6s\tremaining: 9.73s\n",
      "24:\tlearn: 0.2983989\ttotal: 15.2s\tremaining: 9.11s\n",
      "25:\tlearn: 0.2951866\ttotal: 15.8s\tremaining: 8.5s\n",
      "26:\tlearn: 0.2924630\ttotal: 16.4s\tremaining: 7.88s\n",
      "27:\tlearn: 0.2895269\ttotal: 17s\tremaining: 7.27s\n",
      "28:\tlearn: 0.2861449\ttotal: 17.6s\tremaining: 6.66s\n",
      "29:\tlearn: 0.2837868\ttotal: 18.1s\tremaining: 6.04s\n",
      "30:\tlearn: 0.2813118\ttotal: 18.7s\tremaining: 5.43s\n",
      "31:\tlearn: 0.2784870\ttotal: 19.3s\tremaining: 4.83s\n",
      "32:\tlearn: 0.2764441\ttotal: 19.9s\tremaining: 4.22s\n",
      "33:\tlearn: 0.2745360\ttotal: 20.5s\tremaining: 3.61s\n",
      "34:\tlearn: 0.2730690\ttotal: 21.1s\tremaining: 3.01s\n",
      "35:\tlearn: 0.2703929\ttotal: 21.7s\tremaining: 2.41s\n",
      "36:\tlearn: 0.2682963\ttotal: 22.3s\tremaining: 1.8s\n",
      "37:\tlearn: 0.2663949\ttotal: 22.8s\tremaining: 1.2s\n",
      "38:\tlearn: 0.2640897\ttotal: 23.4s\tremaining: 600ms\n",
      "39:\tlearn: 0.2629471\ttotal: 24s\tremaining: 0us\n",
      "Learning rate set to 0.5\n",
      "0:\tlearn: 0.5490569\ttotal: 792ms\tremaining: 30.9s\n",
      "1:\tlearn: 0.4809159\ttotal: 1.39s\tremaining: 26.5s\n",
      "2:\tlearn: 0.4486198\ttotal: 1.98s\tremaining: 24.4s\n",
      "3:\tlearn: 0.4289541\ttotal: 2.6s\tremaining: 23.4s\n",
      "4:\tlearn: 0.4121790\ttotal: 3.21s\tremaining: 22.5s\n",
      "5:\tlearn: 0.3994098\ttotal: 3.81s\tremaining: 21.6s\n",
      "6:\tlearn: 0.3859797\ttotal: 4.41s\tremaining: 20.8s\n",
      "7:\tlearn: 0.3749216\ttotal: 5.01s\tremaining: 20.1s\n",
      "8:\tlearn: 0.3648228\ttotal: 5.63s\tremaining: 19.4s\n",
      "9:\tlearn: 0.3570041\ttotal: 6.23s\tremaining: 18.7s\n",
      "10:\tlearn: 0.3508148\ttotal: 6.81s\tremaining: 18s\n",
      "11:\tlearn: 0.3454190\ttotal: 7.41s\tremaining: 17.3s\n",
      "12:\tlearn: 0.3406859\ttotal: 8.01s\tremaining: 16.6s\n",
      "13:\tlearn: 0.3364058\ttotal: 8.63s\tremaining: 16s\n",
      "14:\tlearn: 0.3318829\ttotal: 9.22s\tremaining: 15.4s\n",
      "15:\tlearn: 0.3283470\ttotal: 9.8s\tremaining: 14.7s\n",
      "16:\tlearn: 0.3237029\ttotal: 10.4s\tremaining: 14.1s\n",
      "17:\tlearn: 0.3203147\ttotal: 11s\tremaining: 13.4s\n",
      "18:\tlearn: 0.3171160\ttotal: 11.5s\tremaining: 12.8s\n",
      "19:\tlearn: 0.3142081\ttotal: 12.1s\tremaining: 12.1s\n",
      "20:\tlearn: 0.3103351\ttotal: 12.8s\tremaining: 11.6s\n",
      "21:\tlearn: 0.3064290\ttotal: 13.4s\tremaining: 11s\n",
      "22:\tlearn: 0.3031239\ttotal: 14s\tremaining: 10.3s\n",
      "23:\tlearn: 0.2988435\ttotal: 14.5s\tremaining: 9.69s\n",
      "24:\tlearn: 0.2952167\ttotal: 15.1s\tremaining: 9.08s\n",
      "25:\tlearn: 0.2924819\ttotal: 15.7s\tremaining: 8.47s\n",
      "26:\tlearn: 0.2893531\ttotal: 16.3s\tremaining: 7.85s\n",
      "27:\tlearn: 0.2873710\ttotal: 16.9s\tremaining: 7.23s\n",
      "28:\tlearn: 0.2847641\ttotal: 17.5s\tremaining: 6.63s\n",
      "29:\tlearn: 0.2820441\ttotal: 18.1s\tremaining: 6.03s\n",
      "30:\tlearn: 0.2787664\ttotal: 18.7s\tremaining: 5.43s\n",
      "31:\tlearn: 0.2770271\ttotal: 19.3s\tremaining: 4.82s\n",
      "32:\tlearn: 0.2755895\ttotal: 19.8s\tremaining: 4.21s\n",
      "33:\tlearn: 0.2719715\ttotal: 20.4s\tremaining: 3.6s\n",
      "34:\tlearn: 0.2690056\ttotal: 21s\tremaining: 3s\n",
      "35:\tlearn: 0.2663585\ttotal: 21.6s\tremaining: 2.4s\n",
      "36:\tlearn: 0.2652314\ttotal: 22.2s\tremaining: 1.8s\n",
      "37:\tlearn: 0.2635429\ttotal: 22.8s\tremaining: 1.2s\n",
      "38:\tlearn: 0.2624911\ttotal: 23.4s\tremaining: 600ms\n",
      "39:\tlearn: 0.2595738\ttotal: 24s\tremaining: 0us\n",
      "Learning rate set to 0.5\n",
      "0:\tlearn: 0.5494010\ttotal: 813ms\tremaining: 31.7s\n",
      "1:\tlearn: 0.4914625\ttotal: 1.42s\tremaining: 26.9s\n",
      "2:\tlearn: 0.4573930\ttotal: 2.02s\tremaining: 24.9s\n",
      "3:\tlearn: 0.4337928\ttotal: 2.63s\tremaining: 23.6s\n",
      "4:\tlearn: 0.4183173\ttotal: 3.21s\tremaining: 22.5s\n",
      "5:\tlearn: 0.4028591\ttotal: 3.81s\tremaining: 21.6s\n",
      "6:\tlearn: 0.3936938\ttotal: 4.39s\tremaining: 20.7s\n",
      "7:\tlearn: 0.3789431\ttotal: 4.99s\tremaining: 20s\n",
      "8:\tlearn: 0.3702092\ttotal: 5.61s\tremaining: 19.3s\n",
      "9:\tlearn: 0.3623347\ttotal: 6.2s\tremaining: 18.6s\n",
      "10:\tlearn: 0.3562474\ttotal: 6.8s\tremaining: 17.9s\n",
      "11:\tlearn: 0.3523489\ttotal: 7.4s\tremaining: 17.3s\n",
      "12:\tlearn: 0.3460608\ttotal: 8.01s\tremaining: 16.6s\n",
      "13:\tlearn: 0.3417785\ttotal: 8.6s\tremaining: 16s\n",
      "14:\tlearn: 0.3372647\ttotal: 9.19s\tremaining: 15.3s\n",
      "15:\tlearn: 0.3321966\ttotal: 9.79s\tremaining: 14.7s\n",
      "16:\tlearn: 0.3283139\ttotal: 10.4s\tremaining: 14.1s\n",
      "17:\tlearn: 0.3232677\ttotal: 11s\tremaining: 13.4s\n",
      "18:\tlearn: 0.3196536\ttotal: 11.6s\tremaining: 12.8s\n",
      "19:\tlearn: 0.3157603\ttotal: 12.2s\tremaining: 12.2s\n",
      "20:\tlearn: 0.3107977\ttotal: 12.8s\tremaining: 11.5s\n",
      "21:\tlearn: 0.3073082\ttotal: 13.4s\tremaining: 10.9s\n",
      "22:\tlearn: 0.3035719\ttotal: 13.9s\tremaining: 10.3s\n",
      "23:\tlearn: 0.3002121\ttotal: 14.5s\tremaining: 9.69s\n",
      "24:\tlearn: 0.2969067\ttotal: 15.2s\tremaining: 9.09s\n",
      "25:\tlearn: 0.2942145\ttotal: 15.7s\tremaining: 8.48s\n",
      "26:\tlearn: 0.2914922\ttotal: 16.3s\tremaining: 7.86s\n",
      "27:\tlearn: 0.2885215\ttotal: 16.9s\tremaining: 7.25s\n",
      "28:\tlearn: 0.2858268\ttotal: 17.5s\tremaining: 6.65s\n",
      "29:\tlearn: 0.2833553\ttotal: 18.1s\tremaining: 6.04s\n",
      "30:\tlearn: 0.2809077\ttotal: 18.7s\tremaining: 5.42s\n",
      "31:\tlearn: 0.2791205\ttotal: 19.2s\tremaining: 4.81s\n",
      "32:\tlearn: 0.2736657\ttotal: 19.8s\tremaining: 4.21s\n",
      "33:\tlearn: 0.2716680\ttotal: 20.4s\tremaining: 3.61s\n",
      "34:\tlearn: 0.2695497\ttotal: 21s\tremaining: 3.01s\n",
      "35:\tlearn: 0.2679700\ttotal: 21.6s\tremaining: 2.4s\n",
      "36:\tlearn: 0.2662739\ttotal: 22.2s\tremaining: 1.8s\n",
      "37:\tlearn: 0.2638523\ttotal: 22.8s\tremaining: 1.2s\n",
      "38:\tlearn: 0.2624708\ttotal: 23.4s\tremaining: 599ms\n",
      "39:\tlearn: 0.2601536\ttotal: 24s\tremaining: 0us\n",
      "Learning rate set to 0.5\n",
      "0:\tlearn: 0.5386465\ttotal: 1.11s\tremaining: 43.3s\n",
      "1:\tlearn: 0.4786725\ttotal: 1.96s\tremaining: 37.2s\n",
      "2:\tlearn: 0.4418446\ttotal: 2.77s\tremaining: 34.2s\n",
      "3:\tlearn: 0.4219939\ttotal: 3.6s\tremaining: 32.4s\n",
      "4:\tlearn: 0.4068055\ttotal: 4.42s\tremaining: 31s\n",
      "5:\tlearn: 0.3951123\ttotal: 5.23s\tremaining: 29.6s\n",
      "6:\tlearn: 0.3821582\ttotal: 6.07s\tremaining: 28.6s\n",
      "7:\tlearn: 0.3739020\ttotal: 6.87s\tremaining: 27.5s\n",
      "8:\tlearn: 0.3658041\ttotal: 7.71s\tremaining: 26.5s\n",
      "9:\tlearn: 0.3593457\ttotal: 8.51s\tremaining: 25.5s\n",
      "10:\tlearn: 0.3545272\ttotal: 9.3s\tremaining: 24.5s\n",
      "11:\tlearn: 0.3472312\ttotal: 10.1s\tremaining: 23.6s\n",
      "12:\tlearn: 0.3437597\ttotal: 10.9s\tremaining: 22.7s\n",
      "13:\tlearn: 0.3399448\ttotal: 11.7s\tremaining: 21.8s\n",
      "14:\tlearn: 0.3361360\ttotal: 12.5s\tremaining: 20.9s\n",
      "15:\tlearn: 0.3307616\ttotal: 13.3s\tremaining: 20s\n",
      "16:\tlearn: 0.3272648\ttotal: 14.1s\tremaining: 19.1s\n",
      "17:\tlearn: 0.3238711\ttotal: 15s\tremaining: 18.3s\n",
      "18:\tlearn: 0.3202089\ttotal: 15.8s\tremaining: 17.5s\n",
      "19:\tlearn: 0.3167597\ttotal: 16.6s\tremaining: 16.6s\n",
      "20:\tlearn: 0.3130669\ttotal: 17.4s\tremaining: 15.8s\n",
      "21:\tlearn: 0.3094635\ttotal: 18.2s\tremaining: 14.9s\n",
      "22:\tlearn: 0.3065845\ttotal: 19s\tremaining: 14.1s\n",
      "23:\tlearn: 0.3036146\ttotal: 19.8s\tremaining: 13.2s\n",
      "24:\tlearn: 0.3003826\ttotal: 20.7s\tremaining: 12.4s\n",
      "25:\tlearn: 0.2973078\ttotal: 21.5s\tremaining: 11.6s\n",
      "26:\tlearn: 0.2949958\ttotal: 22.2s\tremaining: 10.7s\n",
      "27:\tlearn: 0.2915604\ttotal: 23s\tremaining: 9.88s\n",
      "28:\tlearn: 0.2889447\ttotal: 23.9s\tremaining: 9.06s\n",
      "29:\tlearn: 0.2863883\ttotal: 24.7s\tremaining: 8.23s\n",
      "30:\tlearn: 0.2828730\ttotal: 25.5s\tremaining: 7.41s\n",
      "31:\tlearn: 0.2804598\ttotal: 26.3s\tremaining: 6.58s\n",
      "32:\tlearn: 0.2781624\ttotal: 27.1s\tremaining: 5.75s\n",
      "33:\tlearn: 0.2763239\ttotal: 27.9s\tremaining: 4.93s\n",
      "34:\tlearn: 0.2747402\ttotal: 28.7s\tremaining: 4.1s\n",
      "35:\tlearn: 0.2719780\ttotal: 29.5s\tremaining: 3.28s\n",
      "36:\tlearn: 0.2704520\ttotal: 30.3s\tremaining: 2.46s\n",
      "37:\tlearn: 0.2679758\ttotal: 31.1s\tremaining: 1.64s\n",
      "38:\tlearn: 0.2659482\ttotal: 31.9s\tremaining: 817ms\n",
      "39:\tlearn: 0.2644643\ttotal: 32.6s\tremaining: 0us\n",
      "{'iterations': 40}\n",
      "0.826862156568818\n",
      "CPU times: user 2min 43s, sys: 2.92 s, total: 2min 46s\n",
      "Wall time: 2min 50s\n"
     ]
    }
   ],
   "source": [
    "%%time\n",
    "# обучение и подбор гиперпараметров для модели CatBoostClassifier\n",
    "\n",
    "model_cbc = CatBoostClassifier(loss_function='Logloss', random_seed=RANDOM_STATE)\n",
    "grid_cbc = GridSearchCV(model_cbc, parameters_cbc, cv=3, scoring='f1')\n",
    "grid_cbc.fit(features_train, target_train_downsampled)\n",
    "print(grid_cbc.best_params_)\n",
    "print(grid_cbc.best_score_)\n"
   ]
  },
  {
   "cell_type": "code",
   "execution_count": 32,
   "metadata": {},
   "outputs": [
    {
     "data": {
      "text/html": [
       "<div>\n",
       "<style scoped>\n",
       "    .dataframe tbody tr th:only-of-type {\n",
       "        vertical-align: middle;\n",
       "    }\n",
       "\n",
       "    .dataframe tbody tr th {\n",
       "        vertical-align: top;\n",
       "    }\n",
       "\n",
       "    .dataframe thead th {\n",
       "        text-align: right;\n",
       "    }\n",
       "</style>\n",
       "<table border=\"1\" class=\"dataframe\">\n",
       "  <thead>\n",
       "    <tr style=\"text-align: right;\">\n",
       "      <th></th>\n",
       "      <th>mean_fit_time</th>\n",
       "      <th>std_fit_time</th>\n",
       "      <th>mean_score_time</th>\n",
       "      <th>std_score_time</th>\n",
       "      <th>param_iterations</th>\n",
       "      <th>params</th>\n",
       "      <th>split0_test_score</th>\n",
       "      <th>split1_test_score</th>\n",
       "      <th>split2_test_score</th>\n",
       "      <th>mean_test_score</th>\n",
       "      <th>std_test_score</th>\n",
       "      <th>rank_test_score</th>\n",
       "    </tr>\n",
       "  </thead>\n",
       "  <tbody>\n",
       "    <tr>\n",
       "      <th>0</th>\n",
       "      <td>16.145909</td>\n",
       "      <td>0.098723</td>\n",
       "      <td>0.103572</td>\n",
       "      <td>0.004330</td>\n",
       "      <td>20</td>\n",
       "      <td>{'iterations': 20}</td>\n",
       "      <td>0.789495</td>\n",
       "      <td>0.797756</td>\n",
       "      <td>0.791599</td>\n",
       "      <td>0.792950</td>\n",
       "      <td>0.003505</td>\n",
       "      <td>2</td>\n",
       "    </tr>\n",
       "    <tr>\n",
       "      <th>1</th>\n",
       "      <td>27.723517</td>\n",
       "      <td>0.070350</td>\n",
       "      <td>0.105040</td>\n",
       "      <td>0.000694</td>\n",
       "      <td>40</td>\n",
       "      <td>{'iterations': 40}</td>\n",
       "      <td>0.825425</td>\n",
       "      <td>0.825671</td>\n",
       "      <td>0.829490</td>\n",
       "      <td>0.826862</td>\n",
       "      <td>0.001861</td>\n",
       "      <td>1</td>\n",
       "    </tr>\n",
       "  </tbody>\n",
       "</table>\n",
       "</div>"
      ],
      "text/plain": [
       "   mean_fit_time  std_fit_time  mean_score_time  std_score_time  \\\n",
       "0      16.145909      0.098723         0.103572        0.004330   \n",
       "1      27.723517      0.070350         0.105040        0.000694   \n",
       "\n",
       "  param_iterations              params  split0_test_score  split1_test_score  \\\n",
       "0               20  {'iterations': 20}           0.789495           0.797756   \n",
       "1               40  {'iterations': 40}           0.825425           0.825671   \n",
       "\n",
       "   split2_test_score  mean_test_score  std_test_score  rank_test_score  \n",
       "0           0.791599         0.792950        0.003505                2  \n",
       "1           0.829490         0.826862        0.001861                1  "
      ]
     },
     "metadata": {},
     "output_type": "display_data"
    },
    {
     "data": {
      "text/html": [
       "<div>\n",
       "<style scoped>\n",
       "    .dataframe tbody tr th:only-of-type {\n",
       "        vertical-align: middle;\n",
       "    }\n",
       "\n",
       "    .dataframe tbody tr th {\n",
       "        vertical-align: top;\n",
       "    }\n",
       "\n",
       "    .dataframe thead th {\n",
       "        text-align: right;\n",
       "    }\n",
       "</style>\n",
       "<table border=\"1\" class=\"dataframe\">\n",
       "  <thead>\n",
       "    <tr style=\"text-align: right;\">\n",
       "      <th></th>\n",
       "      <th>mean_fit_time</th>\n",
       "      <th>std_fit_time</th>\n",
       "      <th>mean_score_time</th>\n",
       "      <th>std_score_time</th>\n",
       "      <th>param_iterations</th>\n",
       "      <th>params</th>\n",
       "      <th>split0_test_score</th>\n",
       "      <th>split1_test_score</th>\n",
       "      <th>split2_test_score</th>\n",
       "      <th>mean_test_score</th>\n",
       "      <th>std_test_score</th>\n",
       "      <th>rank_test_score</th>\n",
       "    </tr>\n",
       "  </thead>\n",
       "  <tbody>\n",
       "    <tr>\n",
       "      <th>1</th>\n",
       "      <td>27.723517</td>\n",
       "      <td>0.07035</td>\n",
       "      <td>0.10504</td>\n",
       "      <td>0.000694</td>\n",
       "      <td>40</td>\n",
       "      <td>{'iterations': 40}</td>\n",
       "      <td>0.825425</td>\n",
       "      <td>0.825671</td>\n",
       "      <td>0.82949</td>\n",
       "      <td>0.826862</td>\n",
       "      <td>0.001861</td>\n",
       "      <td>1</td>\n",
       "    </tr>\n",
       "  </tbody>\n",
       "</table>\n",
       "</div>"
      ],
      "text/plain": [
       "   mean_fit_time  std_fit_time  mean_score_time  std_score_time  \\\n",
       "1      27.723517       0.07035          0.10504        0.000694   \n",
       "\n",
       "  param_iterations              params  split0_test_score  split1_test_score  \\\n",
       "1               40  {'iterations': 40}           0.825425           0.825671   \n",
       "\n",
       "   split2_test_score  mean_test_score  std_test_score  rank_test_score  \n",
       "1            0.82949         0.826862        0.001861                1  "
      ]
     },
     "metadata": {},
     "output_type": "display_data"
    },
    {
     "name": "stdout",
     "output_type": "stream",
     "text": [
      "Fit_time: 27.723516782124836, predict_time: 0.10503951708475749\n"
     ]
    }
   ],
   "source": [
    "# вывод результатов\n",
    "results = pd.DataFrame(grid_cbc.cv_results_)\n",
    "display(results)\n",
    "display(results[results['rank_test_score'] == 1])\n",
    "fit_time_cbc = results[results['rank_test_score'] == 1]['mean_fit_time'].values[0]\n",
    "predict_time_cbc = results[results['rank_test_score'] == 1]['mean_score_time'].values[0]\n",
    "print(f'Fit_time: {fit_time_cbc}, predict_time: {predict_time_cbc}')"
   ]
  },
  {
   "cell_type": "markdown",
   "metadata": {},
   "source": [
    "### Выбор оптимальной модели"
   ]
  },
  {
   "cell_type": "code",
   "execution_count": 33,
   "metadata": {
    "scrolled": true
   },
   "outputs": [
    {
     "name": "stdout",
     "output_type": "stream",
     "text": [
      "|                Модель|    Время обучения|Время предсказания|          F1|\n",
      "|    LogisticRegression|          13.73184|           0.06465|     0.85996|\n",
      "|    CatBoostClassifier|          27.72352|           0.10504|     0.82686|\n"
     ]
    }
   ],
   "source": [
    "# сводная таблица результирующих значений для выбора оптимальной модели\n",
    "print('|{: >22}|{: >18}|{: >18}|{: >12}|'.format('Модель', 'Время обучения', 'Время предсказания', 'F1'))\n",
    "print('|{: >22}|{: >18.5f}|{: >18.5f}|{: >12.5f}|'.format('LogisticRegression', fit_time_lr, predict_time_lr, grid_lr.best_score_))\n",
    "print('|{: >22}|{: >18.5f}|{: >18.5f}|{: >12.5f}|'.format('CatBoostClassifier', fit_time_cbc, predict_time_cbc, grid_cbc.best_score_))"
   ]
  },
  {
   "cell_type": "markdown",
   "metadata": {},
   "source": [
    "Значение метрики f1 у модели LR получиллсь 0.86, у модели CBC получиллсь 0.83.\n",
    "\n",
    "Наилучший результат предсказаний по метрике F1 показала модель Логистической регрессии с параметрами C = 10, solver = 'newton-cg'. На этой модели проверим предсказания на тестовой выборке."
   ]
  },
  {
   "cell_type": "markdown",
   "metadata": {},
   "source": [
    "### Проверка на тестовой выборке"
   ]
  },
  {
   "cell_type": "code",
   "execution_count": 34,
   "metadata": {},
   "outputs": [],
   "source": [
    "best_model = grid_lr.best_estimator_"
   ]
  },
  {
   "cell_type": "code",
   "execution_count": 35,
   "metadata": {},
   "outputs": [
    {
     "name": "stdout",
     "output_type": "stream",
     "text": [
      "LogisticRegression_Test_F1: 0.7520420877751628\n",
      "CPU times: user 8.83 ms, sys: 3.79 ms, total: 12.6 ms\n",
      "Wall time: 12 ms\n"
     ]
    }
   ],
   "source": [
    "%%time\n",
    "\n",
    "# проверка выбранной оптимальной модели на тестовых данных\n",
    "\n",
    "predictions_test = best_model.predict(features_test)\n",
    "f1_lr = f1_score(target_test, predictions_test) \n",
    "print('LogisticRegression_Test_F1:', f1_lr)\n"
   ]
  },
  {
   "cell_type": "markdown",
   "metadata": {},
   "source": [
    "Значение показателя F1 на тестовых данных плучилось 0.75, что удовлетворяет требованиям проекта."
   ]
  },
  {
   "cell_type": "markdown",
   "metadata": {},
   "source": [
    "## Общий вывод"
   ]
  },
  {
   "cell_type": "markdown",
   "metadata": {},
   "source": [
    "По условиям проекта необходимо было разработать инструмент для интернет-магазина, который будет искать токсичные комментарии и отправлять их на модерацию. Необходимо было обучить модель классифицировать комментарии на позитивные и негативные. В распоряжении был набор данных с разметкой о токсичности правок в качестве исторических данных.\n",
    "\n",
    "Был проведен небольшой исследовательский анализ. Исходя из анализа, видно, что присутствует дисбаланс классов: доля токсичных комментариев клиентов существенно ниже обычных комментариев (составляет 10% от общей доли комментариев). Для устранения дисбаланса классов использовалась техника downsampling.\n",
    "\n",
    "Для решения задачи были проанализированы две модели классификации: модель Логистической регресии и модель градиентного бустинга (CatBoost). Качество предсказание модели оценивается метрикой F1 (не менее 0.75).\n",
    "\n",
    "Оптимальной для задачи заказчика выбрана модель LogisticRegression(random_state=RANDOM_STATE, C = 10, fit_intercept = False, solver = 'newton-cg')."
   ]
  }
 ],
 "metadata": {
  "ExecuteTimeLog": [
   {
    "duration": 1810,
    "start_time": "2023-01-30T09:14:34.397Z"
   },
   {
    "duration": 2,
    "start_time": "2023-01-30T09:14:36.210Z"
   },
   {
    "duration": 3686,
    "start_time": "2023-01-30T09:14:36.213Z"
   },
   {
    "duration": 13,
    "start_time": "2023-01-30T09:14:39.901Z"
   },
   {
    "duration": 39,
    "start_time": "2023-01-30T09:14:39.917Z"
   },
   {
    "duration": 25,
    "start_time": "2023-01-30T09:18:29.924Z"
   },
   {
    "duration": 254,
    "start_time": "2023-01-30T09:19:10.149Z"
   },
   {
    "duration": 1682,
    "start_time": "2023-01-30T13:22:07.381Z"
   },
   {
    "duration": 3,
    "start_time": "2023-01-30T13:22:09.066Z"
   },
   {
    "duration": 2392,
    "start_time": "2023-01-30T13:22:09.071Z"
   },
   {
    "duration": 15,
    "start_time": "2023-01-30T13:22:11.465Z"
   },
   {
    "duration": 46,
    "start_time": "2023-01-30T13:22:11.482Z"
   },
   {
    "duration": 32,
    "start_time": "2023-01-30T13:22:11.530Z"
   },
   {
    "duration": 298,
    "start_time": "2023-01-30T13:22:11.565Z"
   },
   {
    "duration": 3,
    "start_time": "2023-01-30T13:22:11.864Z"
   },
   {
    "duration": 10,
    "start_time": "2023-01-30T13:22:11.869Z"
   },
   {
    "duration": 7,
    "start_time": "2023-01-30T13:24:45.284Z"
   },
   {
    "duration": 899,
    "start_time": "2023-01-30T13:27:37.342Z"
   },
   {
    "duration": 1797,
    "start_time": "2023-01-31T12:24:56.420Z"
   },
   {
    "duration": 3,
    "start_time": "2023-01-31T12:24:58.219Z"
   },
   {
    "duration": 4148,
    "start_time": "2023-01-31T12:24:58.223Z"
   },
   {
    "duration": 12,
    "start_time": "2023-01-31T12:25:02.373Z"
   },
   {
    "duration": 65,
    "start_time": "2023-01-31T12:25:02.388Z"
   },
   {
    "duration": 47,
    "start_time": "2023-01-31T12:25:02.455Z"
   },
   {
    "duration": 250,
    "start_time": "2023-01-31T12:25:02.504Z"
   },
   {
    "duration": 3,
    "start_time": "2023-01-31T12:25:02.755Z"
   },
   {
    "duration": 14,
    "start_time": "2023-01-31T12:25:02.760Z"
   },
   {
    "duration": 987,
    "start_time": "2023-01-31T12:25:02.776Z"
   },
   {
    "duration": 409,
    "start_time": "2023-01-31T12:26:15.815Z"
   },
   {
    "duration": 203,
    "start_time": "2023-01-31T12:26:38.293Z"
   },
   {
    "duration": 21,
    "start_time": "2023-01-31T12:31:11.821Z"
   },
   {
    "duration": 1853,
    "start_time": "2023-01-31T16:38:28.079Z"
   },
   {
    "duration": 3,
    "start_time": "2023-01-31T16:38:29.934Z"
   },
   {
    "duration": 2886,
    "start_time": "2023-01-31T16:38:29.938Z"
   },
   {
    "duration": 12,
    "start_time": "2023-01-31T16:38:32.826Z"
   },
   {
    "duration": 50,
    "start_time": "2023-01-31T16:38:32.840Z"
   },
   {
    "duration": 36,
    "start_time": "2023-01-31T16:38:32.892Z"
   },
   {
    "duration": 282,
    "start_time": "2023-01-31T16:38:32.930Z"
   },
   {
    "duration": 7,
    "start_time": "2023-01-31T16:38:33.215Z"
   },
   {
    "duration": 23,
    "start_time": "2023-01-31T16:38:33.225Z"
   },
   {
    "duration": 279,
    "start_time": "2023-01-31T16:38:33.250Z"
   },
   {
    "duration": 132,
    "start_time": "2023-01-31T16:38:33.531Z"
   },
   {
    "duration": 1636,
    "start_time": "2023-01-31T16:39:13.749Z"
   },
   {
    "duration": 2,
    "start_time": "2023-01-31T16:39:15.388Z"
   },
   {
    "duration": 942,
    "start_time": "2023-01-31T16:39:15.392Z"
   },
   {
    "duration": 12,
    "start_time": "2023-01-31T16:39:16.336Z"
   },
   {
    "duration": 44,
    "start_time": "2023-01-31T16:39:16.351Z"
   },
   {
    "duration": 50,
    "start_time": "2023-01-31T16:39:16.397Z"
   },
   {
    "duration": 257,
    "start_time": "2023-01-31T16:39:16.449Z"
   },
   {
    "duration": 3,
    "start_time": "2023-01-31T16:39:16.709Z"
   },
   {
    "duration": 29,
    "start_time": "2023-01-31T16:39:16.714Z"
   },
   {
    "duration": 274,
    "start_time": "2023-01-31T16:39:16.745Z"
   },
   {
    "duration": 132,
    "start_time": "2023-01-31T16:39:17.021Z"
   },
   {
    "duration": 754,
    "start_time": "2023-01-31T16:39:49.149Z"
   },
   {
    "duration": 14,
    "start_time": "2023-01-31T16:41:12.297Z"
   },
   {
    "duration": 420,
    "start_time": "2023-01-31T16:42:27.541Z"
   },
   {
    "duration": 6,
    "start_time": "2023-01-31T16:44:57.061Z"
   },
   {
    "duration": 7,
    "start_time": "2023-01-31T16:47:03.398Z"
   },
   {
    "duration": 7,
    "start_time": "2023-01-31T16:49:04.642Z"
   },
   {
    "duration": 2118,
    "start_time": "2023-01-31T16:53:35.668Z"
   },
   {
    "duration": 3,
    "start_time": "2023-01-31T16:53:37.788Z"
   },
   {
    "duration": 1020,
    "start_time": "2023-01-31T16:53:37.792Z"
   },
   {
    "duration": 20,
    "start_time": "2023-01-31T16:53:38.814Z"
   },
   {
    "duration": 45,
    "start_time": "2023-01-31T16:53:38.837Z"
   },
   {
    "duration": 47,
    "start_time": "2023-01-31T16:53:38.884Z"
   },
   {
    "duration": 293,
    "start_time": "2023-01-31T16:53:38.941Z"
   },
   {
    "duration": 4,
    "start_time": "2023-01-31T16:53:39.236Z"
   },
   {
    "duration": 13,
    "start_time": "2023-01-31T16:53:39.243Z"
   },
   {
    "duration": 329,
    "start_time": "2023-01-31T16:53:39.258Z"
   },
   {
    "duration": 861,
    "start_time": "2023-01-31T16:53:39.589Z"
   },
   {
    "duration": 10736,
    "start_time": "2023-01-31T16:53:40.452Z"
   },
   {
    "duration": 39,
    "start_time": "2023-01-31T16:53:51.189Z"
   },
   {
    "duration": 10554,
    "start_time": "2023-01-31T16:53:51.231Z"
   },
   {
    "duration": 2261,
    "start_time": "2023-01-31T16:54:53.499Z"
   },
   {
    "duration": 3,
    "start_time": "2023-01-31T16:54:55.763Z"
   },
   {
    "duration": 925,
    "start_time": "2023-01-31T16:54:55.769Z"
   },
   {
    "duration": 13,
    "start_time": "2023-01-31T16:54:56.696Z"
   },
   {
    "duration": 47,
    "start_time": "2023-01-31T16:54:56.711Z"
   },
   {
    "duration": 31,
    "start_time": "2023-01-31T16:54:56.759Z"
   },
   {
    "duration": 295,
    "start_time": "2023-01-31T16:54:56.791Z"
   },
   {
    "duration": 4,
    "start_time": "2023-01-31T16:54:57.087Z"
   },
   {
    "duration": 12,
    "start_time": "2023-01-31T16:54:57.093Z"
   },
   {
    "duration": 311,
    "start_time": "2023-01-31T16:54:57.106Z"
   },
   {
    "duration": 789,
    "start_time": "2023-01-31T16:54:57.419Z"
   },
   {
    "duration": 9224,
    "start_time": "2023-01-31T16:54:58.210Z"
   },
   {
    "duration": 9498,
    "start_time": "2023-01-31T16:55:07.437Z"
   },
   {
    "duration": 163,
    "start_time": "2023-01-31T16:56:37.036Z"
   },
   {
    "duration": 2073,
    "start_time": "2023-01-31T16:57:54.497Z"
   },
   {
    "duration": 4,
    "start_time": "2023-01-31T16:57:56.572Z"
   },
   {
    "duration": 1081,
    "start_time": "2023-01-31T16:57:56.577Z"
   },
   {
    "duration": 18,
    "start_time": "2023-01-31T16:57:57.661Z"
   },
   {
    "duration": 50,
    "start_time": "2023-01-31T16:57:57.682Z"
   },
   {
    "duration": 37,
    "start_time": "2023-01-31T16:57:57.734Z"
   },
   {
    "duration": 356,
    "start_time": "2023-01-31T16:57:57.773Z"
   },
   {
    "duration": 4,
    "start_time": "2023-01-31T16:57:58.131Z"
   },
   {
    "duration": 21,
    "start_time": "2023-01-31T16:57:58.137Z"
   },
   {
    "duration": 143,
    "start_time": "2023-01-31T16:57:58.161Z"
   },
   {
    "duration": 0,
    "start_time": "2023-01-31T16:57:58.306Z"
   },
   {
    "duration": 0,
    "start_time": "2023-01-31T16:57:58.311Z"
   },
   {
    "duration": 0,
    "start_time": "2023-01-31T16:57:58.321Z"
   },
   {
    "duration": 0,
    "start_time": "2023-01-31T16:57:58.323Z"
   },
   {
    "duration": 279,
    "start_time": "2023-01-31T16:58:10.697Z"
   },
   {
    "duration": 770,
    "start_time": "2023-01-31T16:58:12.909Z"
   },
   {
    "duration": 8840,
    "start_time": "2023-01-31T16:58:33.108Z"
   },
   {
    "duration": 8382,
    "start_time": "2023-01-31T16:58:41.951Z"
   },
   {
    "duration": 25,
    "start_time": "2023-01-31T16:58:50.335Z"
   },
   {
    "duration": 16,
    "start_time": "2023-01-31T17:00:26.521Z"
   },
   {
    "duration": 8246,
    "start_time": "2023-01-31T17:00:34.644Z"
   },
   {
    "duration": 2028,
    "start_time": "2023-01-31T17:03:38.267Z"
   },
   {
    "duration": 3,
    "start_time": "2023-01-31T17:03:40.299Z"
   },
   {
    "duration": 869,
    "start_time": "2023-01-31T17:03:40.304Z"
   },
   {
    "duration": 14,
    "start_time": "2023-01-31T17:03:41.175Z"
   },
   {
    "duration": 58,
    "start_time": "2023-01-31T17:03:41.192Z"
   },
   {
    "duration": 35,
    "start_time": "2023-01-31T17:03:41.253Z"
   },
   {
    "duration": 309,
    "start_time": "2023-01-31T17:03:41.290Z"
   },
   {
    "duration": 6,
    "start_time": "2023-01-31T17:03:41.601Z"
   },
   {
    "duration": 16,
    "start_time": "2023-01-31T17:03:41.609Z"
   },
   {
    "duration": 301,
    "start_time": "2023-01-31T17:03:41.627Z"
   },
   {
    "duration": 818,
    "start_time": "2023-01-31T17:03:41.930Z"
   },
   {
    "duration": 9050,
    "start_time": "2023-01-31T17:03:42.752Z"
   },
   {
    "duration": 149,
    "start_time": "2023-01-31T17:03:51.804Z"
   },
   {
    "duration": 0,
    "start_time": "2023-01-31T17:03:51.955Z"
   },
   {
    "duration": 6,
    "start_time": "2023-01-31T17:05:17.333Z"
   },
   {
    "duration": 13,
    "start_time": "2023-01-31T17:05:22.731Z"
   },
   {
    "duration": 1779,
    "start_time": "2023-01-31T17:05:36.163Z"
   },
   {
    "duration": 3,
    "start_time": "2023-01-31T17:05:37.944Z"
   },
   {
    "duration": 1010,
    "start_time": "2023-01-31T17:05:37.949Z"
   },
   {
    "duration": 14,
    "start_time": "2023-01-31T17:05:38.961Z"
   },
   {
    "duration": 56,
    "start_time": "2023-01-31T17:05:38.978Z"
   },
   {
    "duration": 35,
    "start_time": "2023-01-31T17:05:39.035Z"
   },
   {
    "duration": 311,
    "start_time": "2023-01-31T17:05:39.072Z"
   },
   {
    "duration": 4,
    "start_time": "2023-01-31T17:05:39.385Z"
   },
   {
    "duration": 11,
    "start_time": "2023-01-31T17:05:39.391Z"
   },
   {
    "duration": 341,
    "start_time": "2023-01-31T17:05:39.404Z"
   },
   {
    "duration": 892,
    "start_time": "2023-01-31T17:05:39.747Z"
   },
   {
    "duration": 9024,
    "start_time": "2023-01-31T17:05:40.641Z"
   },
   {
    "duration": 178,
    "start_time": "2023-01-31T17:05:49.667Z"
   },
   {
    "duration": 0,
    "start_time": "2023-01-31T17:05:49.847Z"
   },
   {
    "duration": 17,
    "start_time": "2023-01-31T17:07:15.986Z"
   },
   {
    "duration": 13,
    "start_time": "2023-01-31T17:13:44.802Z"
   },
   {
    "duration": 8454,
    "start_time": "2023-01-31T17:14:03.511Z"
   },
   {
    "duration": 19,
    "start_time": "2023-01-31T17:14:19.971Z"
   },
   {
    "duration": 8525,
    "start_time": "2023-01-31T17:24:45.982Z"
   },
   {
    "duration": 33,
    "start_time": "2023-01-31T17:24:54.510Z"
   },
   {
    "duration": 11211,
    "start_time": "2023-01-31T17:25:17.757Z"
   },
   {
    "duration": 15,
    "start_time": "2023-01-31T17:26:04.580Z"
   },
   {
    "duration": 13,
    "start_time": "2023-01-31T17:26:22.790Z"
   },
   {
    "duration": 8433,
    "start_time": "2023-01-31T17:26:30.959Z"
   },
   {
    "duration": 8414,
    "start_time": "2023-01-31T17:26:39.394Z"
   },
   {
    "duration": 2384,
    "start_time": "2023-02-01T19:10:42.292Z"
   },
   {
    "duration": 3,
    "start_time": "2023-02-01T19:10:44.679Z"
   },
   {
    "duration": 2299,
    "start_time": "2023-02-01T19:10:44.684Z"
   },
   {
    "duration": 12,
    "start_time": "2023-02-01T19:10:46.984Z"
   },
   {
    "duration": 34,
    "start_time": "2023-02-01T19:10:46.998Z"
   },
   {
    "duration": 26,
    "start_time": "2023-02-01T19:10:47.034Z"
   },
   {
    "duration": 258,
    "start_time": "2023-02-01T19:10:47.063Z"
   },
   {
    "duration": 3,
    "start_time": "2023-02-01T19:10:47.323Z"
   },
   {
    "duration": 20,
    "start_time": "2023-02-01T19:10:47.328Z"
   },
   {
    "duration": 236,
    "start_time": "2023-02-01T19:10:47.350Z"
   },
   {
    "duration": 787,
    "start_time": "2023-02-01T19:10:47.592Z"
   },
   {
    "duration": 2013,
    "start_time": "2023-02-02T10:14:01.714Z"
   },
   {
    "duration": 2,
    "start_time": "2023-02-02T10:14:03.730Z"
   },
   {
    "duration": 3560,
    "start_time": "2023-02-02T10:14:03.734Z"
   },
   {
    "duration": 11,
    "start_time": "2023-02-02T10:14:07.296Z"
   },
   {
    "duration": 37,
    "start_time": "2023-02-02T10:14:07.310Z"
   },
   {
    "duration": 34,
    "start_time": "2023-02-02T10:14:07.349Z"
   },
   {
    "duration": 265,
    "start_time": "2023-02-02T10:14:07.385Z"
   },
   {
    "duration": 3,
    "start_time": "2023-02-02T10:14:07.651Z"
   },
   {
    "duration": 25,
    "start_time": "2023-02-02T10:14:07.656Z"
   },
   {
    "duration": 262,
    "start_time": "2023-02-02T10:14:07.683Z"
   },
   {
    "duration": 747,
    "start_time": "2023-02-02T10:14:07.947Z"
   },
   {
    "duration": 1844,
    "start_time": "2023-02-02T10:23:48.131Z"
   },
   {
    "duration": 2,
    "start_time": "2023-02-02T10:23:49.978Z"
   },
   {
    "duration": 960,
    "start_time": "2023-02-02T10:23:49.982Z"
   },
   {
    "duration": 11,
    "start_time": "2023-02-02T10:23:50.944Z"
   },
   {
    "duration": 46,
    "start_time": "2023-02-02T10:23:50.958Z"
   },
   {
    "duration": 32,
    "start_time": "2023-02-02T10:23:51.006Z"
   },
   {
    "duration": 252,
    "start_time": "2023-02-02T10:23:51.039Z"
   },
   {
    "duration": 4,
    "start_time": "2023-02-02T10:23:51.292Z"
   },
   {
    "duration": 18,
    "start_time": "2023-02-02T10:23:51.297Z"
   },
   {
    "duration": 269,
    "start_time": "2023-02-02T10:23:51.317Z"
   },
   {
    "duration": 798,
    "start_time": "2023-02-02T10:23:51.588Z"
   },
   {
    "duration": 1888,
    "start_time": "2023-02-02T14:16:03.369Z"
   },
   {
    "duration": 3,
    "start_time": "2023-02-02T14:16:05.259Z"
   },
   {
    "duration": 975,
    "start_time": "2023-02-02T14:16:05.264Z"
   },
   {
    "duration": 11,
    "start_time": "2023-02-02T14:16:06.241Z"
   },
   {
    "duration": 51,
    "start_time": "2023-02-02T14:16:06.254Z"
   },
   {
    "duration": 28,
    "start_time": "2023-02-02T14:16:06.307Z"
   },
   {
    "duration": 273,
    "start_time": "2023-02-02T14:16:06.337Z"
   },
   {
    "duration": 4,
    "start_time": "2023-02-02T14:16:06.611Z"
   },
   {
    "duration": 24,
    "start_time": "2023-02-02T14:16:06.617Z"
   },
   {
    "duration": 292,
    "start_time": "2023-02-02T14:16:06.643Z"
   },
   {
    "duration": 764,
    "start_time": "2023-02-02T14:16:06.937Z"
   },
   {
    "duration": 1978,
    "start_time": "2023-02-02T16:29:52.309Z"
   },
   {
    "duration": 2,
    "start_time": "2023-02-02T16:29:54.289Z"
   },
   {
    "duration": 2443,
    "start_time": "2023-02-02T16:29:54.292Z"
   },
   {
    "duration": 11,
    "start_time": "2023-02-02T16:29:56.737Z"
   },
   {
    "duration": 30,
    "start_time": "2023-02-02T16:29:56.749Z"
   },
   {
    "duration": 38,
    "start_time": "2023-02-02T16:29:56.781Z"
   },
   {
    "duration": 233,
    "start_time": "2023-02-02T16:29:56.820Z"
   },
   {
    "duration": 3,
    "start_time": "2023-02-02T16:29:57.055Z"
   },
   {
    "duration": 23,
    "start_time": "2023-02-02T16:29:57.060Z"
   },
   {
    "duration": 287,
    "start_time": "2023-02-02T16:29:57.086Z"
   },
   {
    "duration": 4,
    "start_time": "2023-02-02T16:29:57.375Z"
   },
   {
    "duration": 1812,
    "start_time": "2023-02-02T17:15:54.982Z"
   },
   {
    "duration": 3,
    "start_time": "2023-02-02T17:15:56.796Z"
   },
   {
    "duration": 847,
    "start_time": "2023-02-02T17:15:56.800Z"
   },
   {
    "duration": 10,
    "start_time": "2023-02-02T17:15:57.649Z"
   },
   {
    "duration": 31,
    "start_time": "2023-02-02T17:15:57.661Z"
   },
   {
    "duration": 27,
    "start_time": "2023-02-02T17:15:57.693Z"
   },
   {
    "duration": 256,
    "start_time": "2023-02-02T17:15:57.722Z"
   },
   {
    "duration": 3,
    "start_time": "2023-02-02T17:15:57.981Z"
   },
   {
    "duration": 19,
    "start_time": "2023-02-02T17:15:57.986Z"
   },
   {
    "duration": 4,
    "start_time": "2023-02-02T17:15:58.007Z"
   },
   {
    "duration": 8,
    "start_time": "2023-02-02T17:15:58.013Z"
   },
   {
    "duration": 5,
    "start_time": "2023-02-02T17:15:58.023Z"
   },
   {
    "duration": 1665,
    "start_time": "2023-02-02T17:17:14.482Z"
   },
   {
    "duration": 2,
    "start_time": "2023-02-02T17:17:16.150Z"
   },
   {
    "duration": 862,
    "start_time": "2023-02-02T17:17:16.153Z"
   },
   {
    "duration": 10,
    "start_time": "2023-02-02T17:17:17.018Z"
   },
   {
    "duration": 40,
    "start_time": "2023-02-02T17:17:17.030Z"
   },
   {
    "duration": 27,
    "start_time": "2023-02-02T17:17:17.072Z"
   },
   {
    "duration": 239,
    "start_time": "2023-02-02T17:17:17.101Z"
   },
   {
    "duration": 8,
    "start_time": "2023-02-02T17:17:17.342Z"
   },
   {
    "duration": 9,
    "start_time": "2023-02-02T17:17:17.352Z"
   },
   {
    "duration": 16,
    "start_time": "2023-02-02T17:17:17.362Z"
   },
   {
    "duration": 21,
    "start_time": "2023-02-02T17:17:17.379Z"
   },
   {
    "duration": 23,
    "start_time": "2023-02-02T17:17:17.402Z"
   },
   {
    "duration": 1665,
    "start_time": "2023-02-02T17:18:01.400Z"
   },
   {
    "duration": 2,
    "start_time": "2023-02-02T17:18:03.067Z"
   },
   {
    "duration": 862,
    "start_time": "2023-02-02T17:18:03.071Z"
   },
   {
    "duration": 14,
    "start_time": "2023-02-02T17:18:03.935Z"
   },
   {
    "duration": 46,
    "start_time": "2023-02-02T17:18:03.951Z"
   },
   {
    "duration": 28,
    "start_time": "2023-02-02T17:18:03.999Z"
   },
   {
    "duration": 239,
    "start_time": "2023-02-02T17:18:04.029Z"
   },
   {
    "duration": 3,
    "start_time": "2023-02-02T17:18:04.270Z"
   },
   {
    "duration": 9,
    "start_time": "2023-02-02T17:18:04.275Z"
   },
   {
    "duration": 3,
    "start_time": "2023-02-02T17:18:04.287Z"
   },
   {
    "duration": 6,
    "start_time": "2023-02-02T17:18:04.292Z"
   },
   {
    "duration": 5,
    "start_time": "2023-02-02T17:18:04.299Z"
   },
   {
    "duration": 0,
    "start_time": "2023-02-02T17:20:17.409Z"
   },
   {
    "duration": 0,
    "start_time": "2023-02-02T17:20:17.410Z"
   },
   {
    "duration": 0,
    "start_time": "2023-02-02T17:20:17.411Z"
   },
   {
    "duration": 0,
    "start_time": "2023-02-02T17:20:17.413Z"
   },
   {
    "duration": 0,
    "start_time": "2023-02-02T17:20:17.414Z"
   },
   {
    "duration": 0,
    "start_time": "2023-02-02T17:20:17.415Z"
   },
   {
    "duration": 0,
    "start_time": "2023-02-02T17:20:17.416Z"
   },
   {
    "duration": 0,
    "start_time": "2023-02-02T17:20:17.417Z"
   },
   {
    "duration": 0,
    "start_time": "2023-02-02T17:20:17.419Z"
   },
   {
    "duration": 0,
    "start_time": "2023-02-02T17:20:17.420Z"
   },
   {
    "duration": 0,
    "start_time": "2023-02-02T17:20:17.421Z"
   },
   {
    "duration": 0,
    "start_time": "2023-02-02T17:20:17.422Z"
   },
   {
    "duration": 0,
    "start_time": "2023-02-02T17:20:17.423Z"
   },
   {
    "duration": 0,
    "start_time": "2023-02-02T17:20:17.424Z"
   },
   {
    "duration": 0,
    "start_time": "2023-02-02T17:20:17.425Z"
   },
   {
    "duration": 0,
    "start_time": "2023-02-02T17:20:17.426Z"
   },
   {
    "duration": 0,
    "start_time": "2023-02-02T17:20:17.427Z"
   },
   {
    "duration": 0,
    "start_time": "2023-02-02T17:20:17.428Z"
   },
   {
    "duration": 1,
    "start_time": "2023-02-02T17:20:17.429Z"
   },
   {
    "duration": 0,
    "start_time": "2023-02-02T17:20:17.430Z"
   },
   {
    "duration": 0,
    "start_time": "2023-02-02T17:20:17.448Z"
   },
   {
    "duration": 0,
    "start_time": "2023-02-02T17:20:17.449Z"
   },
   {
    "duration": 0,
    "start_time": "2023-02-02T17:20:17.450Z"
   },
   {
    "duration": 0,
    "start_time": "2023-02-02T17:20:17.451Z"
   },
   {
    "duration": 1,
    "start_time": "2023-02-02T17:20:17.452Z"
   },
   {
    "duration": 0,
    "start_time": "2023-02-02T17:20:17.454Z"
   },
   {
    "duration": 0,
    "start_time": "2023-02-02T17:20:17.454Z"
   },
   {
    "duration": 0,
    "start_time": "2023-02-02T17:20:17.456Z"
   },
   {
    "duration": 1679,
    "start_time": "2023-02-02T17:21:37.363Z"
   },
   {
    "duration": 2,
    "start_time": "2023-02-02T17:21:39.044Z"
   },
   {
    "duration": 817,
    "start_time": "2023-02-02T17:21:39.048Z"
   },
   {
    "duration": 10,
    "start_time": "2023-02-02T17:21:39.867Z"
   },
   {
    "duration": 28,
    "start_time": "2023-02-02T17:21:39.879Z"
   },
   {
    "duration": 41,
    "start_time": "2023-02-02T17:21:39.908Z"
   },
   {
    "duration": 231,
    "start_time": "2023-02-02T17:21:39.950Z"
   },
   {
    "duration": 3,
    "start_time": "2023-02-02T17:21:40.182Z"
   },
   {
    "duration": 24,
    "start_time": "2023-02-02T17:21:40.187Z"
   },
   {
    "duration": 8,
    "start_time": "2023-02-02T17:21:40.214Z"
   },
   {
    "duration": 6,
    "start_time": "2023-02-02T17:21:40.223Z"
   },
   {
    "duration": 5,
    "start_time": "2023-02-02T17:21:40.230Z"
   },
   {
    "duration": 70316,
    "start_time": "2023-02-02T17:21:40.237Z"
   },
   {
    "duration": 8,
    "start_time": "2023-02-02T17:22:50.556Z"
   },
   {
    "duration": 9,
    "start_time": "2023-02-02T17:22:50.565Z"
   },
   {
    "duration": 1027,
    "start_time": "2023-02-02T17:22:50.575Z"
   },
   {
    "duration": 0,
    "start_time": "2023-02-02T17:22:51.604Z"
   },
   {
    "duration": 0,
    "start_time": "2023-02-02T17:22:51.605Z"
   },
   {
    "duration": 0,
    "start_time": "2023-02-02T17:22:51.606Z"
   },
   {
    "duration": 0,
    "start_time": "2023-02-02T17:22:51.607Z"
   },
   {
    "duration": 0,
    "start_time": "2023-02-02T17:22:51.608Z"
   },
   {
    "duration": 0,
    "start_time": "2023-02-02T17:22:51.611Z"
   },
   {
    "duration": 0,
    "start_time": "2023-02-02T17:22:51.612Z"
   },
   {
    "duration": 0,
    "start_time": "2023-02-02T17:22:51.613Z"
   },
   {
    "duration": 0,
    "start_time": "2023-02-02T17:22:51.614Z"
   },
   {
    "duration": 0,
    "start_time": "2023-02-02T17:22:51.615Z"
   },
   {
    "duration": 0,
    "start_time": "2023-02-02T17:22:51.617Z"
   },
   {
    "duration": 0,
    "start_time": "2023-02-02T17:22:51.618Z"
   },
   {
    "duration": 899,
    "start_time": "2023-02-02T17:24:03.773Z"
   },
   {
    "duration": 3,
    "start_time": "2023-02-02T17:24:21.643Z"
   },
   {
    "duration": 3,
    "start_time": "2023-02-02T17:24:28.597Z"
   },
   {
    "duration": 13,
    "start_time": "2023-02-02T17:24:29.943Z"
   },
   {
    "duration": 13,
    "start_time": "2023-02-02T17:24:52.245Z"
   },
   {
    "duration": 13,
    "start_time": "2023-02-02T17:25:05.166Z"
   },
   {
    "duration": 13,
    "start_time": "2023-02-02T17:25:38.829Z"
   },
   {
    "duration": 14,
    "start_time": "2023-02-02T17:25:55.490Z"
   },
   {
    "duration": 11,
    "start_time": "2023-02-02T17:26:19.572Z"
   },
   {
    "duration": 12,
    "start_time": "2023-02-02T17:27:23.729Z"
   },
   {
    "duration": 11,
    "start_time": "2023-02-02T17:27:31.993Z"
   },
   {
    "duration": 11,
    "start_time": "2023-02-02T17:27:53.279Z"
   },
   {
    "duration": 5,
    "start_time": "2023-02-02T17:27:59.883Z"
   },
   {
    "duration": 3,
    "start_time": "2023-02-02T17:28:04.859Z"
   },
   {
    "duration": 79,
    "start_time": "2023-02-02T17:28:06.339Z"
   },
   {
    "duration": 558,
    "start_time": "2023-02-02T17:28:14.217Z"
   },
   {
    "duration": 53,
    "start_time": "2023-02-02T17:28:19.153Z"
   },
   {
    "duration": 4,
    "start_time": "2023-02-02T17:28:31.633Z"
   },
   {
    "duration": 82,
    "start_time": "2023-02-02T17:28:37.359Z"
   },
   {
    "duration": 331,
    "start_time": "2023-02-02T17:28:59.723Z"
   },
   {
    "duration": 14,
    "start_time": "2023-02-02T17:29:03.737Z"
   },
   {
    "duration": 13119,
    "start_time": "2023-02-02T17:30:25.225Z"
   },
   {
    "duration": 291,
    "start_time": "2023-02-02T17:33:29.903Z"
   },
   {
    "duration": 135441,
    "start_time": "2023-02-02T17:34:22.803Z"
   },
   {
    "duration": 69,
    "start_time": "2023-02-02T17:36:55.314Z"
   },
   {
    "duration": 4,
    "start_time": "2023-02-02T17:36:59.038Z"
   },
   {
    "duration": 5,
    "start_time": "2023-02-02T17:37:30.952Z"
   },
   {
    "duration": 1940,
    "start_time": "2023-02-03T15:49:26.176Z"
   },
   {
    "duration": 3,
    "start_time": "2023-02-03T15:49:28.119Z"
   },
   {
    "duration": 3235,
    "start_time": "2023-02-03T15:49:28.124Z"
   },
   {
    "duration": 12,
    "start_time": "2023-02-03T15:49:31.361Z"
   },
   {
    "duration": 47,
    "start_time": "2023-02-03T15:49:31.376Z"
   },
   {
    "duration": 26,
    "start_time": "2023-02-03T15:49:31.425Z"
   },
   {
    "duration": 244,
    "start_time": "2023-02-03T15:49:31.452Z"
   },
   {
    "duration": 7,
    "start_time": "2023-02-03T15:49:31.698Z"
   },
   {
    "duration": 38,
    "start_time": "2023-02-03T15:49:31.707Z"
   },
   {
    "duration": 9,
    "start_time": "2023-02-03T15:49:31.746Z"
   },
   {
    "duration": 204,
    "start_time": "2023-02-03T15:49:31.757Z"
   },
   {
    "duration": 3,
    "start_time": "2023-02-03T15:49:31.965Z"
   },
   {
    "duration": 27,
    "start_time": "2023-02-03T15:49:31.969Z"
   },
   {
    "duration": 6,
    "start_time": "2023-02-03T15:49:32.000Z"
   },
   {
    "duration": 67778,
    "start_time": "2023-02-03T15:49:32.008Z"
   },
   {
    "duration": 8,
    "start_time": "2023-02-03T15:50:39.788Z"
   },
   {
    "duration": 10,
    "start_time": "2023-02-03T15:50:39.803Z"
   },
   {
    "duration": 30,
    "start_time": "2023-02-03T15:50:39.814Z"
   },
   {
    "duration": 6,
    "start_time": "2023-02-03T15:50:39.846Z"
   },
   {
    "duration": 27,
    "start_time": "2023-02-03T15:50:39.854Z"
   },
   {
    "duration": 132,
    "start_time": "2023-02-03T15:50:39.883Z"
   },
   {
    "duration": 0,
    "start_time": "2023-02-03T15:50:40.017Z"
   },
   {
    "duration": 0,
    "start_time": "2023-02-03T15:50:40.019Z"
   },
   {
    "duration": 0,
    "start_time": "2023-02-03T15:50:40.020Z"
   },
   {
    "duration": 0,
    "start_time": "2023-02-03T15:50:40.022Z"
   },
   {
    "duration": 0,
    "start_time": "2023-02-03T15:50:40.024Z"
   },
   {
    "duration": 0,
    "start_time": "2023-02-03T15:50:40.025Z"
   },
   {
    "duration": 0,
    "start_time": "2023-02-03T15:50:40.027Z"
   },
   {
    "duration": 0,
    "start_time": "2023-02-03T15:50:40.029Z"
   },
   {
    "duration": 0,
    "start_time": "2023-02-03T15:50:40.030Z"
   },
   {
    "duration": 2214,
    "start_time": "2023-02-03T20:03:32.876Z"
   },
   {
    "duration": 3,
    "start_time": "2023-02-03T20:03:35.093Z"
   },
   {
    "duration": 3429,
    "start_time": "2023-02-03T20:03:35.098Z"
   },
   {
    "duration": 11,
    "start_time": "2023-02-03T20:03:38.529Z"
   },
   {
    "duration": 46,
    "start_time": "2023-02-03T20:03:38.543Z"
   },
   {
    "duration": 42,
    "start_time": "2023-02-03T20:03:38.590Z"
   },
   {
    "duration": 247,
    "start_time": "2023-02-03T20:03:38.633Z"
   },
   {
    "duration": 4,
    "start_time": "2023-02-03T20:03:38.882Z"
   },
   {
    "duration": 35,
    "start_time": "2023-02-03T20:03:38.888Z"
   },
   {
    "duration": 24,
    "start_time": "2023-02-03T20:03:38.925Z"
   },
   {
    "duration": 161,
    "start_time": "2023-02-03T20:03:38.951Z"
   },
   {
    "duration": 3,
    "start_time": "2023-02-03T20:03:39.115Z"
   },
   {
    "duration": 21,
    "start_time": "2023-02-03T20:03:39.120Z"
   },
   {
    "duration": 14,
    "start_time": "2023-02-03T20:03:39.144Z"
   },
   {
    "duration": 1850,
    "start_time": "2023-02-03T20:04:06.946Z"
   },
   {
    "duration": 3,
    "start_time": "2023-02-03T20:04:08.806Z"
   },
   {
    "duration": 938,
    "start_time": "2023-02-03T20:04:08.811Z"
   },
   {
    "duration": 14,
    "start_time": "2023-02-03T20:04:09.751Z"
   },
   {
    "duration": 49,
    "start_time": "2023-02-03T20:04:09.768Z"
   },
   {
    "duration": 33,
    "start_time": "2023-02-03T20:04:09.819Z"
   },
   {
    "duration": 300,
    "start_time": "2023-02-03T20:04:09.854Z"
   },
   {
    "duration": 3,
    "start_time": "2023-02-03T20:04:10.156Z"
   },
   {
    "duration": 10,
    "start_time": "2023-02-03T20:04:10.161Z"
   },
   {
    "duration": 12,
    "start_time": "2023-02-03T20:04:10.173Z"
   },
   {
    "duration": 297,
    "start_time": "2023-02-03T20:04:10.187Z"
   },
   {
    "duration": 4,
    "start_time": "2023-02-03T20:04:10.486Z"
   },
   {
    "duration": 7,
    "start_time": "2023-02-03T20:04:10.492Z"
   },
   {
    "duration": 8,
    "start_time": "2023-02-03T20:04:10.503Z"
   },
   {
    "duration": 76299,
    "start_time": "2023-02-03T20:04:10.512Z"
   },
   {
    "duration": 14,
    "start_time": "2023-02-03T20:05:26.813Z"
   },
   {
    "duration": 7,
    "start_time": "2023-02-03T20:05:26.829Z"
   },
   {
    "duration": 180,
    "start_time": "2023-02-03T20:05:26.837Z"
   },
   {
    "duration": 0,
    "start_time": "2023-02-03T20:05:27.018Z"
   },
   {
    "duration": 0,
    "start_time": "2023-02-03T20:05:27.020Z"
   },
   {
    "duration": 0,
    "start_time": "2023-02-03T20:05:27.021Z"
   },
   {
    "duration": 0,
    "start_time": "2023-02-03T20:05:27.022Z"
   },
   {
    "duration": 0,
    "start_time": "2023-02-03T20:05:27.024Z"
   },
   {
    "duration": 0,
    "start_time": "2023-02-03T20:05:27.026Z"
   },
   {
    "duration": 0,
    "start_time": "2023-02-03T20:05:27.027Z"
   },
   {
    "duration": 0,
    "start_time": "2023-02-03T20:05:27.028Z"
   },
   {
    "duration": 0,
    "start_time": "2023-02-03T20:05:27.029Z"
   },
   {
    "duration": 0,
    "start_time": "2023-02-03T20:05:27.030Z"
   },
   {
    "duration": 0,
    "start_time": "2023-02-03T20:05:27.032Z"
   },
   {
    "duration": 0,
    "start_time": "2023-02-03T20:05:27.033Z"
   },
   {
    "duration": 0,
    "start_time": "2023-02-03T20:05:27.034Z"
   },
   {
    "duration": 0,
    "start_time": "2023-02-03T20:05:27.035Z"
   },
   {
    "duration": 13,
    "start_time": "2023-02-03T20:06:48.318Z"
   },
   {
    "duration": 9,
    "start_time": "2023-02-03T20:06:58.590Z"
   },
   {
    "duration": 17,
    "start_time": "2023-02-03T20:07:07.613Z"
   },
   {
    "duration": 12,
    "start_time": "2023-02-03T20:07:34.275Z"
   },
   {
    "duration": 1864,
    "start_time": "2023-02-03T20:10:18.765Z"
   },
   {
    "duration": 9,
    "start_time": "2023-02-03T20:10:20.631Z"
   },
   {
    "duration": 873,
    "start_time": "2023-02-03T20:10:20.642Z"
   },
   {
    "duration": 12,
    "start_time": "2023-02-03T20:10:21.518Z"
   },
   {
    "duration": 38,
    "start_time": "2023-02-03T20:10:21.532Z"
   },
   {
    "duration": 29,
    "start_time": "2023-02-03T20:10:21.583Z"
   },
   {
    "duration": 251,
    "start_time": "2023-02-03T20:10:21.614Z"
   },
   {
    "duration": 3,
    "start_time": "2023-02-03T20:10:21.867Z"
   },
   {
    "duration": 19,
    "start_time": "2023-02-03T20:10:21.872Z"
   },
   {
    "duration": 9,
    "start_time": "2023-02-03T20:10:21.893Z"
   },
   {
    "duration": 221,
    "start_time": "2023-02-03T20:10:21.904Z"
   },
   {
    "duration": 3,
    "start_time": "2023-02-03T20:10:22.127Z"
   },
   {
    "duration": 10,
    "start_time": "2023-02-03T20:10:22.131Z"
   },
   {
    "duration": 7,
    "start_time": "2023-02-03T20:10:22.143Z"
   },
   {
    "duration": 75066,
    "start_time": "2023-02-03T20:10:22.152Z"
   },
   {
    "duration": 14,
    "start_time": "2023-02-03T20:11:37.220Z"
   },
   {
    "duration": 7,
    "start_time": "2023-02-03T20:11:37.235Z"
   },
   {
    "duration": 21,
    "start_time": "2023-02-03T20:11:37.245Z"
   },
   {
    "duration": 151,
    "start_time": "2023-02-03T20:11:37.268Z"
   },
   {
    "duration": 0,
    "start_time": "2023-02-03T20:11:37.421Z"
   },
   {
    "duration": 0,
    "start_time": "2023-02-03T20:11:37.422Z"
   },
   {
    "duration": 0,
    "start_time": "2023-02-03T20:11:37.423Z"
   },
   {
    "duration": 0,
    "start_time": "2023-02-03T20:11:37.424Z"
   },
   {
    "duration": 0,
    "start_time": "2023-02-03T20:11:37.425Z"
   },
   {
    "duration": 0,
    "start_time": "2023-02-03T20:11:37.426Z"
   },
   {
    "duration": 0,
    "start_time": "2023-02-03T20:11:37.429Z"
   },
   {
    "duration": 0,
    "start_time": "2023-02-03T20:11:37.430Z"
   },
   {
    "duration": 1,
    "start_time": "2023-02-03T20:11:37.431Z"
   },
   {
    "duration": 0,
    "start_time": "2023-02-03T20:11:37.433Z"
   },
   {
    "duration": 0,
    "start_time": "2023-02-03T20:11:37.434Z"
   },
   {
    "duration": 1,
    "start_time": "2023-02-03T20:11:37.435Z"
   },
   {
    "duration": 0,
    "start_time": "2023-02-03T20:11:37.437Z"
   },
   {
    "duration": 11,
    "start_time": "2023-02-03T20:12:14.008Z"
   },
   {
    "duration": 3,
    "start_time": "2023-02-03T20:12:16.015Z"
   },
   {
    "duration": 2,
    "start_time": "2023-02-03T20:12:16.979Z"
   },
   {
    "duration": 13,
    "start_time": "2023-02-03T20:12:19.169Z"
   },
   {
    "duration": 7,
    "start_time": "2023-02-03T20:12:25.018Z"
   },
   {
    "duration": 3,
    "start_time": "2023-02-03T20:12:30.663Z"
   },
   {
    "duration": 11,
    "start_time": "2023-02-03T20:12:31.811Z"
   },
   {
    "duration": 4,
    "start_time": "2023-02-03T20:12:39.570Z"
   },
   {
    "duration": 535,
    "start_time": "2023-02-03T20:12:41.986Z"
   },
   {
    "duration": 68,
    "start_time": "2023-02-03T20:12:48.999Z"
   },
   {
    "duration": 3,
    "start_time": "2023-02-03T20:12:57.262Z"
   },
   {
    "duration": 82528,
    "start_time": "2023-02-03T20:12:58.198Z"
   },
   {
    "duration": 49,
    "start_time": "2023-02-03T20:14:20.728Z"
   },
   {
    "duration": 3,
    "start_time": "2023-02-03T20:14:20.779Z"
   },
   {
    "duration": 1898,
    "start_time": "2023-02-04T08:45:17.143Z"
   },
   {
    "duration": 2,
    "start_time": "2023-02-04T08:45:19.044Z"
   },
   {
    "duration": 2234,
    "start_time": "2023-02-04T08:45:19.047Z"
   },
   {
    "duration": 11,
    "start_time": "2023-02-04T08:45:21.282Z"
   },
   {
    "duration": 48,
    "start_time": "2023-02-04T08:45:21.295Z"
   },
   {
    "duration": 42,
    "start_time": "2023-02-04T08:45:21.345Z"
   },
   {
    "duration": 224,
    "start_time": "2023-02-04T08:45:21.389Z"
   },
   {
    "duration": 3,
    "start_time": "2023-02-04T08:45:21.615Z"
   },
   {
    "duration": 40,
    "start_time": "2023-02-04T08:45:21.619Z"
   },
   {
    "duration": 10,
    "start_time": "2023-02-04T08:45:21.661Z"
   },
   {
    "duration": 169,
    "start_time": "2023-02-04T08:45:21.672Z"
   },
   {
    "duration": 5,
    "start_time": "2023-02-04T08:45:21.843Z"
   },
   {
    "duration": 6,
    "start_time": "2023-02-04T08:45:21.850Z"
   },
   {
    "duration": 6,
    "start_time": "2023-02-04T08:45:21.858Z"
   },
   {
    "duration": 67682,
    "start_time": "2023-02-04T08:45:21.866Z"
   },
   {
    "duration": 12,
    "start_time": "2023-02-04T08:46:29.550Z"
   },
   {
    "duration": 15,
    "start_time": "2023-02-04T08:46:29.564Z"
   },
   {
    "duration": 17,
    "start_time": "2023-02-04T08:46:29.580Z"
   },
   {
    "duration": 22,
    "start_time": "2023-02-04T08:46:29.599Z"
   },
   {
    "duration": 3,
    "start_time": "2023-02-04T08:46:29.623Z"
   },
   {
    "duration": 32,
    "start_time": "2023-02-04T08:46:29.628Z"
   },
   {
    "duration": 19,
    "start_time": "2023-02-04T08:46:29.661Z"
   },
   {
    "duration": 11,
    "start_time": "2023-02-04T08:46:29.682Z"
   },
   {
    "duration": 27,
    "start_time": "2023-02-04T08:46:29.695Z"
   },
   {
    "duration": 24,
    "start_time": "2023-02-04T08:46:29.723Z"
   },
   {
    "duration": 10,
    "start_time": "2023-02-04T08:46:29.749Z"
   },
   {
    "duration": 457,
    "start_time": "2023-02-04T08:46:29.760Z"
   },
   {
    "duration": 58,
    "start_time": "2023-02-04T08:46:30.219Z"
   },
   {
    "duration": 4,
    "start_time": "2023-02-04T08:46:30.279Z"
   },
   {
    "duration": 88943,
    "start_time": "2023-02-04T08:46:30.285Z"
   },
   {
    "duration": 44,
    "start_time": "2023-02-04T08:47:59.230Z"
   },
   {
    "duration": 4,
    "start_time": "2023-02-04T08:47:59.275Z"
   },
   {
    "duration": 13,
    "start_time": "2023-02-04T08:47:59.281Z"
   },
   {
    "duration": 1684,
    "start_time": "2023-02-04T08:55:33.372Z"
   },
   {
    "duration": 4,
    "start_time": "2023-02-04T08:55:35.058Z"
   },
   {
    "duration": 849,
    "start_time": "2023-02-04T08:55:35.064Z"
   },
   {
    "duration": 12,
    "start_time": "2023-02-04T08:55:35.915Z"
   },
   {
    "duration": 48,
    "start_time": "2023-02-04T08:55:35.929Z"
   },
   {
    "duration": 29,
    "start_time": "2023-02-04T08:55:35.979Z"
   },
   {
    "duration": 238,
    "start_time": "2023-02-04T08:55:36.011Z"
   },
   {
    "duration": 4,
    "start_time": "2023-02-04T08:55:36.251Z"
   },
   {
    "duration": 17,
    "start_time": "2023-02-04T08:55:36.257Z"
   },
   {
    "duration": 10,
    "start_time": "2023-02-04T08:55:36.277Z"
   },
   {
    "duration": 194,
    "start_time": "2023-02-04T08:55:36.289Z"
   },
   {
    "duration": 2,
    "start_time": "2023-02-04T08:55:36.485Z"
   },
   {
    "duration": 282,
    "start_time": "2023-02-04T08:55:36.489Z"
   },
   {
    "duration": 3,
    "start_time": "2023-02-04T08:55:36.773Z"
   },
   {
    "duration": 1647,
    "start_time": "2023-02-04T11:53:03.916Z"
   },
   {
    "duration": 2,
    "start_time": "2023-02-04T11:53:05.568Z"
   },
   {
    "duration": 837,
    "start_time": "2023-02-04T11:53:05.572Z"
   },
   {
    "duration": 11,
    "start_time": "2023-02-04T11:53:06.412Z"
   },
   {
    "duration": 51,
    "start_time": "2023-02-04T11:53:06.425Z"
   },
   {
    "duration": 30,
    "start_time": "2023-02-04T11:53:06.478Z"
   },
   {
    "duration": 241,
    "start_time": "2023-02-04T11:53:06.510Z"
   },
   {
    "duration": 3,
    "start_time": "2023-02-04T11:53:06.752Z"
   },
   {
    "duration": 11,
    "start_time": "2023-02-04T11:53:06.757Z"
   },
   {
    "duration": 8,
    "start_time": "2023-02-04T11:53:06.769Z"
   },
   {
    "duration": 198,
    "start_time": "2023-02-04T11:53:06.778Z"
   },
   {
    "duration": 2,
    "start_time": "2023-02-04T11:53:06.978Z"
   },
   {
    "duration": 283,
    "start_time": "2023-02-04T11:53:06.981Z"
   },
   {
    "duration": 3,
    "start_time": "2023-02-04T11:53:07.267Z"
   },
   {
    "duration": 1965,
    "start_time": "2023-02-04T14:10:58.899Z"
   },
   {
    "duration": 2,
    "start_time": "2023-02-04T14:11:00.866Z"
   },
   {
    "duration": 2397,
    "start_time": "2023-02-04T14:11:00.870Z"
   },
   {
    "duration": 11,
    "start_time": "2023-02-04T14:11:03.269Z"
   },
   {
    "duration": 34,
    "start_time": "2023-02-04T14:11:03.282Z"
   },
   {
    "duration": 28,
    "start_time": "2023-02-04T14:11:03.317Z"
   },
   {
    "duration": 251,
    "start_time": "2023-02-04T14:11:03.347Z"
   },
   {
    "duration": 4,
    "start_time": "2023-02-04T14:11:03.599Z"
   },
   {
    "duration": 17,
    "start_time": "2023-02-04T14:11:03.605Z"
   },
   {
    "duration": 9,
    "start_time": "2023-02-04T14:11:03.624Z"
   },
   {
    "duration": 209,
    "start_time": "2023-02-04T14:11:03.635Z"
   },
   {
    "duration": 3,
    "start_time": "2023-02-04T14:11:03.845Z"
   },
   {
    "duration": 12,
    "start_time": "2023-02-04T14:11:03.850Z"
   },
   {
    "duration": 13,
    "start_time": "2023-02-04T14:11:03.864Z"
   },
   {
    "duration": 1746,
    "start_time": "2023-02-04T14:11:56.642Z"
   },
   {
    "duration": 3,
    "start_time": "2023-02-04T14:11:58.390Z"
   },
   {
    "duration": 929,
    "start_time": "2023-02-04T14:11:58.395Z"
   },
   {
    "duration": 12,
    "start_time": "2023-02-04T14:11:59.325Z"
   },
   {
    "duration": 35,
    "start_time": "2023-02-04T14:11:59.339Z"
   },
   {
    "duration": 46,
    "start_time": "2023-02-04T14:11:59.376Z"
   },
   {
    "duration": 244,
    "start_time": "2023-02-04T14:11:59.423Z"
   },
   {
    "duration": 3,
    "start_time": "2023-02-04T14:11:59.669Z"
   },
   {
    "duration": 27,
    "start_time": "2023-02-04T14:11:59.674Z"
   },
   {
    "duration": 30,
    "start_time": "2023-02-04T14:11:59.703Z"
   },
   {
    "duration": 206,
    "start_time": "2023-02-04T14:11:59.735Z"
   },
   {
    "duration": 4,
    "start_time": "2023-02-04T14:11:59.943Z"
   },
   {
    "duration": 13,
    "start_time": "2023-02-04T14:11:59.949Z"
   },
   {
    "duration": 4,
    "start_time": "2023-02-04T14:11:59.965Z"
   },
   {
    "duration": 736343,
    "start_time": "2023-02-04T14:11:59.971Z"
   },
   {
    "duration": 29,
    "start_time": "2023-02-04T14:24:16.316Z"
   },
   {
    "duration": 5,
    "start_time": "2023-02-04T14:24:16.347Z"
   },
   {
    "duration": 9,
    "start_time": "2023-02-04T14:24:16.354Z"
   },
   {
    "duration": 11,
    "start_time": "2023-02-04T14:24:16.365Z"
   },
   {
    "duration": 2,
    "start_time": "2023-02-04T14:24:16.378Z"
   },
   {
    "duration": 5,
    "start_time": "2023-02-04T14:24:16.382Z"
   },
   {
    "duration": 29,
    "start_time": "2023-02-04T14:24:16.422Z"
   },
   {
    "duration": 12,
    "start_time": "2023-02-04T14:24:16.453Z"
   },
   {
    "duration": 6,
    "start_time": "2023-02-04T14:24:16.467Z"
   },
   {
    "duration": 13,
    "start_time": "2023-02-04T14:24:16.474Z"
   },
   {
    "duration": 3,
    "start_time": "2023-02-04T14:24:16.489Z"
   },
   {
    "duration": 884,
    "start_time": "2023-02-04T14:24:16.493Z"
   },
   {
    "duration": 54,
    "start_time": "2023-02-04T14:24:17.379Z"
   },
   {
    "duration": 4,
    "start_time": "2023-02-04T14:24:17.434Z"
   },
   {
    "duration": 115771,
    "start_time": "2023-02-04T14:24:17.439Z"
   },
   {
    "duration": 50,
    "start_time": "2023-02-04T14:26:13.213Z"
   },
   {
    "duration": 4,
    "start_time": "2023-02-04T14:26:13.265Z"
   },
   {
    "duration": 17,
    "start_time": "2023-02-04T14:26:13.271Z"
   },
   {
    "duration": 2053,
    "start_time": "2023-02-05T10:43:23.720Z"
   },
   {
    "duration": 3,
    "start_time": "2023-02-05T10:43:25.775Z"
   },
   {
    "duration": 3679,
    "start_time": "2023-02-05T10:43:25.779Z"
   },
   {
    "duration": 12,
    "start_time": "2023-02-05T10:43:29.460Z"
   },
   {
    "duration": 36,
    "start_time": "2023-02-05T10:43:29.473Z"
   },
   {
    "duration": 28,
    "start_time": "2023-02-05T10:43:29.511Z"
   },
   {
    "duration": 234,
    "start_time": "2023-02-05T10:43:29.541Z"
   },
   {
    "duration": 3,
    "start_time": "2023-02-05T10:43:29.777Z"
   },
   {
    "duration": 35,
    "start_time": "2023-02-05T10:43:29.781Z"
   },
   {
    "duration": 7,
    "start_time": "2023-02-05T10:43:29.818Z"
   },
   {
    "duration": 109,
    "start_time": "2023-02-05T10:43:29.827Z"
   },
   {
    "duration": 4,
    "start_time": "2023-02-05T10:43:29.938Z"
   },
   {
    "duration": 28,
    "start_time": "2023-02-05T10:43:29.944Z"
   },
   {
    "duration": 8,
    "start_time": "2023-02-05T10:43:29.974Z"
   },
   {
    "duration": 7004666,
    "start_time": "2023-02-05T10:43:29.984Z"
   },
   {
    "duration": 146,
    "start_time": "2023-02-05T12:40:14.652Z"
   },
   {
    "duration": 3,
    "start_time": "2023-02-05T12:40:14.800Z"
   },
   {
    "duration": 13,
    "start_time": "2023-02-05T12:40:14.804Z"
   },
   {
    "duration": 12,
    "start_time": "2023-02-05T12:40:14.819Z"
   },
   {
    "duration": 4,
    "start_time": "2023-02-05T12:40:14.833Z"
   },
   {
    "duration": 6,
    "start_time": "2023-02-05T12:40:14.838Z"
   },
   {
    "duration": 132,
    "start_time": "2023-02-05T12:40:14.846Z"
   },
   {
    "duration": 87,
    "start_time": "2023-02-05T12:40:14.980Z"
   },
   {
    "duration": 5,
    "start_time": "2023-02-05T12:40:15.069Z"
   },
   {
    "duration": 20,
    "start_time": "2023-02-05T12:40:15.076Z"
   },
   {
    "duration": 3,
    "start_time": "2023-02-05T12:40:15.098Z"
   },
   {
    "duration": 51098,
    "start_time": "2023-02-05T12:40:15.102Z"
   },
   {
    "duration": 213,
    "start_time": "2023-02-05T12:41:06.205Z"
   },
   {
    "duration": 4,
    "start_time": "2023-02-05T12:41:06.420Z"
   },
   {
    "duration": 444999,
    "start_time": "2023-02-05T12:41:06.425Z"
   },
   {
    "duration": 45,
    "start_time": "2023-02-05T12:48:31.427Z"
   },
   {
    "duration": 28,
    "start_time": "2023-02-05T12:48:31.473Z"
   },
   {
    "duration": 3321,
    "start_time": "2023-02-05T12:48:31.503Z"
   },
   {
    "duration": 227,
    "start_time": "2023-02-05T13:54:00.930Z"
   },
   {
    "duration": 593,
    "start_time": "2023-02-05T13:54:08.603Z"
   },
   {
    "duration": 10163,
    "start_time": "2023-02-06T16:26:23.420Z"
   },
   {
    "duration": 19,
    "start_time": "2023-02-06T16:26:33.587Z"
   },
   {
    "duration": 5680,
    "start_time": "2023-02-06T16:26:33.608Z"
   },
   {
    "duration": 27,
    "start_time": "2023-02-06T16:26:39.289Z"
   },
   {
    "duration": 78,
    "start_time": "2023-02-06T16:26:39.320Z"
   },
   {
    "duration": 30,
    "start_time": "2023-02-06T16:26:39.400Z"
   },
   {
    "duration": 360,
    "start_time": "2023-02-06T16:26:39.433Z"
   },
   {
    "duration": 4,
    "start_time": "2023-02-06T16:26:39.796Z"
   },
   {
    "duration": 143,
    "start_time": "2023-02-06T16:26:39.803Z"
   },
   {
    "duration": 125,
    "start_time": "2023-02-06T16:26:39.951Z"
   },
   {
    "duration": 284,
    "start_time": "2023-02-06T16:26:40.078Z"
   },
   {
    "duration": 9,
    "start_time": "2023-02-06T16:26:40.374Z"
   },
   {
    "duration": 132,
    "start_time": "2023-02-06T16:26:40.390Z"
   },
   {
    "duration": 846,
    "start_time": "2023-02-06T16:26:40.529Z"
   },
   {
    "duration": 0,
    "start_time": "2023-02-06T16:26:41.377Z"
   },
   {
    "duration": 0,
    "start_time": "2023-02-06T16:26:41.379Z"
   },
   {
    "duration": 0,
    "start_time": "2023-02-06T16:26:41.380Z"
   },
   {
    "duration": 0,
    "start_time": "2023-02-06T16:26:41.382Z"
   },
   {
    "duration": 0,
    "start_time": "2023-02-06T16:26:41.384Z"
   },
   {
    "duration": 0,
    "start_time": "2023-02-06T16:26:41.386Z"
   },
   {
    "duration": 1,
    "start_time": "2023-02-06T16:26:41.387Z"
   },
   {
    "duration": 0,
    "start_time": "2023-02-06T16:26:41.389Z"
   },
   {
    "duration": 0,
    "start_time": "2023-02-06T16:26:41.391Z"
   },
   {
    "duration": 0,
    "start_time": "2023-02-06T16:26:41.395Z"
   },
   {
    "duration": 0,
    "start_time": "2023-02-06T16:26:41.397Z"
   },
   {
    "duration": 0,
    "start_time": "2023-02-06T16:26:41.401Z"
   },
   {
    "duration": 0,
    "start_time": "2023-02-06T16:26:41.404Z"
   },
   {
    "duration": 0,
    "start_time": "2023-02-06T16:26:41.405Z"
   },
   {
    "duration": 0,
    "start_time": "2023-02-06T16:26:41.407Z"
   },
   {
    "duration": 0,
    "start_time": "2023-02-06T16:26:41.408Z"
   },
   {
    "duration": 0,
    "start_time": "2023-02-06T16:26:41.410Z"
   },
   {
    "duration": 0,
    "start_time": "2023-02-06T16:26:41.411Z"
   },
   {
    "duration": 0,
    "start_time": "2023-02-06T16:26:41.413Z"
   },
   {
    "duration": 0,
    "start_time": "2023-02-06T16:26:41.416Z"
   },
   {
    "duration": 281,
    "start_time": "2023-02-06T16:27:10.185Z"
   },
   {
    "duration": 5,
    "start_time": "2023-02-06T16:27:12.032Z"
   },
   {
    "duration": 185,
    "start_time": "2023-02-06T16:27:14.777Z"
   },
   {
    "duration": 2243,
    "start_time": "2023-02-06T16:27:17.516Z"
   },
   {
    "duration": 4,
    "start_time": "2023-02-06T16:30:20.974Z"
   },
   {
    "duration": 172,
    "start_time": "2023-02-06T16:30:24.189Z"
   },
   {
    "duration": 1156,
    "start_time": "2023-02-06T16:30:26.228Z"
   },
   {
    "duration": 670,
    "start_time": "2023-02-06T16:39:20.287Z"
   },
   {
    "duration": 6,
    "start_time": "2023-02-06T16:39:21.593Z"
   },
   {
    "duration": 163,
    "start_time": "2023-02-06T16:39:28.140Z"
   },
   {
    "duration": 154805,
    "start_time": "2023-02-06T16:39:29.081Z"
   },
   {
    "duration": 4842,
    "start_time": "2023-02-06T16:42:48.785Z"
   },
   {
    "duration": 6,
    "start_time": "2023-02-06T16:42:53.629Z"
   },
   {
    "duration": 908,
    "start_time": "2023-02-06T16:42:53.636Z"
   },
   {
    "duration": 12,
    "start_time": "2023-02-06T16:42:54.546Z"
   },
   {
    "duration": 49,
    "start_time": "2023-02-06T16:42:54.560Z"
   },
   {
    "duration": 45,
    "start_time": "2023-02-06T16:42:54.615Z"
   },
   {
    "duration": 250,
    "start_time": "2023-02-06T16:42:54.662Z"
   },
   {
    "duration": 6,
    "start_time": "2023-02-06T16:42:54.914Z"
   },
   {
    "duration": 33,
    "start_time": "2023-02-06T16:42:54.922Z"
   },
   {
    "duration": 13,
    "start_time": "2023-02-06T16:42:54.958Z"
   },
   {
    "duration": 112,
    "start_time": "2023-02-06T16:42:54.973Z"
   },
   {
    "duration": 6,
    "start_time": "2023-02-06T16:42:55.087Z"
   },
   {
    "duration": 47,
    "start_time": "2023-02-06T16:42:55.095Z"
   },
   {
    "duration": 535,
    "start_time": "2023-02-06T16:42:55.144Z"
   },
   {
    "duration": 18,
    "start_time": "2023-02-06T16:42:55.681Z"
   },
   {
    "duration": 471,
    "start_time": "2023-02-06T16:42:55.705Z"
   },
   {
    "duration": 1522,
    "start_time": "2023-02-06T16:42:56.178Z"
   },
   {
    "duration": 1479,
    "start_time": "2023-02-06T16:42:57.702Z"
   },
   {
    "duration": 0,
    "start_time": "2023-02-06T16:42:59.183Z"
   },
   {
    "duration": 0,
    "start_time": "2023-02-06T16:42:59.184Z"
   },
   {
    "duration": 0,
    "start_time": "2023-02-06T16:42:59.185Z"
   },
   {
    "duration": 0,
    "start_time": "2023-02-06T16:42:59.186Z"
   },
   {
    "duration": 0,
    "start_time": "2023-02-06T16:42:59.187Z"
   },
   {
    "duration": 0,
    "start_time": "2023-02-06T16:42:59.188Z"
   },
   {
    "duration": 0,
    "start_time": "2023-02-06T16:42:59.190Z"
   },
   {
    "duration": 0,
    "start_time": "2023-02-06T16:42:59.195Z"
   },
   {
    "duration": 0,
    "start_time": "2023-02-06T16:42:59.195Z"
   },
   {
    "duration": 0,
    "start_time": "2023-02-06T16:42:59.196Z"
   },
   {
    "duration": 0,
    "start_time": "2023-02-06T16:42:59.198Z"
   },
   {
    "duration": 0,
    "start_time": "2023-02-06T16:42:59.200Z"
   },
   {
    "duration": 0,
    "start_time": "2023-02-06T16:42:59.203Z"
   },
   {
    "duration": 0,
    "start_time": "2023-02-06T16:42:59.207Z"
   },
   {
    "duration": 0,
    "start_time": "2023-02-06T16:42:59.208Z"
   },
   {
    "duration": 0,
    "start_time": "2023-02-06T16:42:59.209Z"
   },
   {
    "duration": 1762,
    "start_time": "2023-02-06T16:43:12.061Z"
   },
   {
    "duration": 4905,
    "start_time": "2023-02-06T16:43:43.370Z"
   },
   {
    "duration": 5,
    "start_time": "2023-02-06T16:43:48.277Z"
   },
   {
    "duration": 984,
    "start_time": "2023-02-06T16:43:48.284Z"
   },
   {
    "duration": 11,
    "start_time": "2023-02-06T16:43:49.270Z"
   },
   {
    "duration": 82,
    "start_time": "2023-02-06T16:43:49.283Z"
   },
   {
    "duration": 34,
    "start_time": "2023-02-06T16:43:49.367Z"
   },
   {
    "duration": 321,
    "start_time": "2023-02-06T16:43:49.403Z"
   },
   {
    "duration": 8,
    "start_time": "2023-02-06T16:43:49.726Z"
   },
   {
    "duration": 22,
    "start_time": "2023-02-06T16:43:49.736Z"
   },
   {
    "duration": 8,
    "start_time": "2023-02-06T16:43:49.759Z"
   },
   {
    "duration": 157,
    "start_time": "2023-02-06T16:43:49.768Z"
   },
   {
    "duration": 3,
    "start_time": "2023-02-06T16:43:49.927Z"
   },
   {
    "duration": 331,
    "start_time": "2023-02-06T16:43:49.931Z"
   },
   {
    "duration": 564,
    "start_time": "2023-02-06T16:43:50.265Z"
   },
   {
    "duration": 5,
    "start_time": "2023-02-06T16:43:50.830Z"
   },
   {
    "duration": 2297,
    "start_time": "2023-02-06T16:43:50.836Z"
   },
   {
    "duration": 2321259,
    "start_time": "2023-02-06T16:43:53.135Z"
   },
   {
    "duration": 2,
    "start_time": "2023-02-06T17:22:34.396Z"
   },
   {
    "duration": 158,
    "start_time": "2023-02-06T17:22:34.400Z"
   },
   {
    "duration": 382,
    "start_time": "2023-02-06T17:22:34.560Z"
   },
   {
    "duration": 0,
    "start_time": "2023-02-06T17:22:34.944Z"
   },
   {
    "duration": 0,
    "start_time": "2023-02-06T17:22:34.945Z"
   },
   {
    "duration": 0,
    "start_time": "2023-02-06T17:22:34.946Z"
   },
   {
    "duration": 0,
    "start_time": "2023-02-06T17:22:34.948Z"
   },
   {
    "duration": 0,
    "start_time": "2023-02-06T17:22:34.949Z"
   },
   {
    "duration": 0,
    "start_time": "2023-02-06T17:22:34.951Z"
   },
   {
    "duration": 0,
    "start_time": "2023-02-06T17:22:34.952Z"
   },
   {
    "duration": 0,
    "start_time": "2023-02-06T17:22:34.953Z"
   },
   {
    "duration": 0,
    "start_time": "2023-02-06T17:22:34.954Z"
   },
   {
    "duration": 0,
    "start_time": "2023-02-06T17:22:34.955Z"
   },
   {
    "duration": 0,
    "start_time": "2023-02-06T17:22:34.956Z"
   },
   {
    "duration": 0,
    "start_time": "2023-02-06T17:22:34.957Z"
   },
   {
    "duration": 0,
    "start_time": "2023-02-06T17:22:34.959Z"
   },
   {
    "duration": 0,
    "start_time": "2023-02-06T17:22:34.960Z"
   },
   {
    "duration": 6,
    "start_time": "2023-02-06T17:26:03.578Z"
   },
   {
    "duration": 44,
    "start_time": "2023-02-06T17:26:13.817Z"
   },
   {
    "duration": 2,
    "start_time": "2023-02-06T17:26:20.051Z"
   },
   {
    "duration": 5,
    "start_time": "2023-02-06T17:26:20.815Z"
   },
   {
    "duration": 1781,
    "start_time": "2023-02-06T17:26:21.435Z"
   },
   {
    "duration": 1495,
    "start_time": "2023-02-06T17:26:31.479Z"
   },
   {
    "duration": 6,
    "start_time": "2023-02-06T17:26:35.914Z"
   },
   {
    "duration": 10,
    "start_time": "2023-02-06T17:26:36.948Z"
   },
   {
    "duration": 3,
    "start_time": "2023-02-06T17:26:39.458Z"
   },
   {
    "duration": 28891,
    "start_time": "2023-02-07T13:40:26.911Z"
   },
   {
    "duration": 9,
    "start_time": "2023-02-07T13:40:55.810Z"
   },
   {
    "duration": 5258,
    "start_time": "2023-02-07T13:40:55.821Z"
   },
   {
    "duration": 19,
    "start_time": "2023-02-07T13:41:01.084Z"
   },
   {
    "duration": 104,
    "start_time": "2023-02-07T13:41:01.106Z"
   },
   {
    "duration": 70,
    "start_time": "2023-02-07T13:41:01.212Z"
   },
   {
    "duration": 373,
    "start_time": "2023-02-07T13:41:01.284Z"
   },
   {
    "duration": 4,
    "start_time": "2023-02-07T13:41:01.659Z"
   },
   {
    "duration": 125,
    "start_time": "2023-02-07T13:41:01.665Z"
   },
   {
    "duration": 40,
    "start_time": "2023-02-07T13:41:01.792Z"
   },
   {
    "duration": 260,
    "start_time": "2023-02-07T13:41:01.834Z"
   },
   {
    "duration": 9,
    "start_time": "2023-02-07T13:41:02.096Z"
   },
   {
    "duration": 597,
    "start_time": "2023-02-07T13:41:02.115Z"
   },
   {
    "duration": 811,
    "start_time": "2023-02-07T13:41:02.718Z"
   },
   {
    "duration": 4,
    "start_time": "2023-02-07T13:41:03.531Z"
   },
   {
    "duration": 3547,
    "start_time": "2023-02-07T13:41:03.537Z"
   },
   {
    "duration": 6921,
    "start_time": "2023-02-07T14:30:17.332Z"
   },
   {
    "duration": 16,
    "start_time": "2023-02-07T14:30:24.260Z"
   },
   {
    "duration": 1389,
    "start_time": "2023-02-07T14:30:24.281Z"
   },
   {
    "duration": 36,
    "start_time": "2023-02-07T14:30:25.678Z"
   },
   {
    "duration": 92,
    "start_time": "2023-02-07T14:30:25.717Z"
   },
   {
    "duration": 45,
    "start_time": "2023-02-07T14:30:25.811Z"
   },
   {
    "duration": 404,
    "start_time": "2023-02-07T14:30:25.859Z"
   },
   {
    "duration": 7,
    "start_time": "2023-02-07T14:30:26.264Z"
   },
   {
    "duration": 57,
    "start_time": "2023-02-07T14:30:26.275Z"
   },
   {
    "duration": 77,
    "start_time": "2023-02-07T14:30:26.337Z"
   },
   {
    "duration": 200,
    "start_time": "2023-02-07T14:30:26.417Z"
   },
   {
    "duration": 3,
    "start_time": "2023-02-07T14:30:26.620Z"
   },
   {
    "duration": 554,
    "start_time": "2023-02-07T14:30:26.625Z"
   },
   {
    "duration": 867,
    "start_time": "2023-02-07T14:30:27.181Z"
   },
   {
    "duration": 5,
    "start_time": "2023-02-07T14:30:28.050Z"
   },
   {
    "duration": 3733,
    "start_time": "2023-02-07T14:30:28.057Z"
   },
   {
    "duration": 5957,
    "start_time": "2023-02-07T15:07:02.470Z"
   },
   {
    "duration": 6,
    "start_time": "2023-02-07T15:07:08.429Z"
   },
   {
    "duration": 1085,
    "start_time": "2023-02-07T15:07:08.441Z"
   },
   {
    "duration": 18,
    "start_time": "2023-02-07T15:07:09.528Z"
   },
   {
    "duration": 80,
    "start_time": "2023-02-07T15:07:09.548Z"
   },
   {
    "duration": 52,
    "start_time": "2023-02-07T15:07:09.629Z"
   },
   {
    "duration": 310,
    "start_time": "2023-02-07T15:07:09.683Z"
   },
   {
    "duration": 4,
    "start_time": "2023-02-07T15:07:09.995Z"
   },
   {
    "duration": 10,
    "start_time": "2023-02-07T15:07:10.000Z"
   },
   {
    "duration": 8,
    "start_time": "2023-02-07T15:07:10.011Z"
   },
   {
    "duration": 183,
    "start_time": "2023-02-07T15:07:10.021Z"
   },
   {
    "duration": 3,
    "start_time": "2023-02-07T15:07:10.205Z"
   },
   {
    "duration": 23,
    "start_time": "2023-02-07T15:07:10.210Z"
   },
   {
    "duration": 685,
    "start_time": "2023-02-07T15:07:10.238Z"
   },
   {
    "duration": 4,
    "start_time": "2023-02-07T15:07:10.924Z"
   },
   {
    "duration": 185,
    "start_time": "2023-02-07T15:07:10.936Z"
   },
   {
    "duration": 5744,
    "start_time": "2023-02-07T15:07:35.781Z"
   },
   {
    "duration": 5,
    "start_time": "2023-02-07T15:07:41.528Z"
   },
   {
    "duration": 997,
    "start_time": "2023-02-07T15:07:41.535Z"
   },
   {
    "duration": 18,
    "start_time": "2023-02-07T15:07:42.535Z"
   },
   {
    "duration": 84,
    "start_time": "2023-02-07T15:07:42.556Z"
   },
   {
    "duration": 56,
    "start_time": "2023-02-07T15:07:42.642Z"
   },
   {
    "duration": 329,
    "start_time": "2023-02-07T15:07:42.700Z"
   },
   {
    "duration": 3,
    "start_time": "2023-02-07T15:07:43.031Z"
   },
   {
    "duration": 61,
    "start_time": "2023-02-07T15:07:43.035Z"
   },
   {
    "duration": 7,
    "start_time": "2023-02-07T15:07:43.098Z"
   },
   {
    "duration": 130,
    "start_time": "2023-02-07T15:07:43.106Z"
   },
   {
    "duration": 4,
    "start_time": "2023-02-07T15:07:43.238Z"
   },
   {
    "duration": 74,
    "start_time": "2023-02-07T15:07:43.244Z"
   },
   {
    "duration": 797,
    "start_time": "2023-02-07T15:07:43.321Z"
   },
   {
    "duration": 4,
    "start_time": "2023-02-07T15:07:44.120Z"
   },
   {
    "duration": 272,
    "start_time": "2023-02-07T15:07:44.126Z"
   },
   {
    "duration": 174229,
    "start_time": "2023-02-07T15:07:44.399Z"
   },
   {
    "duration": 17,
    "start_time": "2023-02-07T15:10:38.631Z"
   },
   {
    "duration": 93,
    "start_time": "2023-02-07T15:10:38.650Z"
   },
   {
    "duration": 73,
    "start_time": "2023-02-07T15:10:38.746Z"
   },
   {
    "duration": 29,
    "start_time": "2023-02-07T15:10:38.821Z"
   },
   {
    "duration": 39,
    "start_time": "2023-02-07T15:10:38.851Z"
   },
   {
    "duration": 174,
    "start_time": "2023-02-07T15:10:38.893Z"
   },
   {
    "duration": 112,
    "start_time": "2023-02-07T15:10:39.070Z"
   },
   {
    "duration": 15,
    "start_time": "2023-02-07T15:10:39.184Z"
   },
   {
    "duration": 87,
    "start_time": "2023-02-07T15:10:39.201Z"
   },
   {
    "duration": 88,
    "start_time": "2023-02-07T15:10:39.291Z"
   },
   {
    "duration": 38473,
    "start_time": "2023-02-07T15:10:39.386Z"
   },
   {
    "duration": 204,
    "start_time": "2023-02-07T15:11:17.866Z"
   },
   {
    "duration": 4,
    "start_time": "2023-02-07T15:11:18.075Z"
   },
   {
    "duration": 601231,
    "start_time": "2023-02-07T15:11:18.081Z"
   },
   {
    "duration": 67,
    "start_time": "2023-02-07T15:21:19.314Z"
   },
   {
    "duration": 9,
    "start_time": "2023-02-07T15:21:19.383Z"
   },
   {
    "duration": 13,
    "start_time": "2023-02-07T15:21:19.394Z"
   },
   {
    "duration": 9,
    "start_time": "2023-02-07T15:21:19.409Z"
   },
   {
    "duration": 3,
    "start_time": "2023-02-07T15:21:24.104Z"
   },
   {
    "duration": 3,
    "start_time": "2023-02-07T15:21:48.354Z"
   },
   {
    "duration": 143332,
    "start_time": "2023-02-07T15:21:49.497Z"
   },
   {
    "duration": 43,
    "start_time": "2023-02-07T15:24:12.831Z"
   },
   {
    "duration": 5,
    "start_time": "2023-02-07T15:24:12.875Z"
   },
   {
    "duration": 5318,
    "start_time": "2023-02-07T15:25:12.701Z"
   },
   {
    "duration": 5,
    "start_time": "2023-02-07T15:25:18.021Z"
   },
   {
    "duration": 932,
    "start_time": "2023-02-07T15:25:18.028Z"
   },
   {
    "duration": 13,
    "start_time": "2023-02-07T15:25:18.962Z"
   },
   {
    "duration": 47,
    "start_time": "2023-02-07T15:25:18.978Z"
   },
   {
    "duration": 52,
    "start_time": "2023-02-07T15:25:19.027Z"
   },
   {
    "duration": 312,
    "start_time": "2023-02-07T15:25:19.080Z"
   },
   {
    "duration": 6,
    "start_time": "2023-02-07T15:25:19.394Z"
   },
   {
    "duration": 36,
    "start_time": "2023-02-07T15:25:19.403Z"
   },
   {
    "duration": 62,
    "start_time": "2023-02-07T15:25:19.441Z"
   },
   {
    "duration": 197,
    "start_time": "2023-02-07T15:25:19.506Z"
   },
   {
    "duration": 3,
    "start_time": "2023-02-07T15:25:19.706Z"
   },
   {
    "duration": 465,
    "start_time": "2023-02-07T15:25:19.711Z"
   },
   {
    "duration": 606,
    "start_time": "2023-02-07T15:25:20.179Z"
   },
   {
    "duration": 5,
    "start_time": "2023-02-07T15:25:20.788Z"
   },
   {
    "duration": 2479,
    "start_time": "2023-02-07T15:25:20.795Z"
   },
   {
    "duration": 2751254,
    "start_time": "2023-02-07T15:25:23.276Z"
   },
   {
    "duration": 14,
    "start_time": "2023-02-07T16:11:14.539Z"
   },
   {
    "duration": 91,
    "start_time": "2023-02-07T16:11:14.555Z"
   },
   {
    "duration": 58,
    "start_time": "2023-02-07T16:11:14.648Z"
   },
   {
    "duration": 13,
    "start_time": "2023-02-07T16:11:14.708Z"
   },
   {
    "duration": 50,
    "start_time": "2023-02-07T16:11:14.722Z"
   },
   {
    "duration": 1867,
    "start_time": "2023-02-07T16:11:14.774Z"
   },
   {
    "duration": 1490,
    "start_time": "2023-02-07T16:11:16.644Z"
   },
   {
    "duration": 11,
    "start_time": "2023-02-07T16:11:18.137Z"
   },
   {
    "duration": 59,
    "start_time": "2023-02-07T16:11:18.150Z"
   },
   {
    "duration": 19,
    "start_time": "2023-02-07T16:11:18.211Z"
   },
   {
    "duration": 328414,
    "start_time": "2023-02-07T16:11:18.231Z"
   },
   {
    "duration": 209,
    "start_time": "2023-02-07T16:16:46.649Z"
   },
   {
    "duration": 154,
    "start_time": "2023-02-07T16:16:46.860Z"
   },
   {
    "duration": 146,
    "start_time": "2023-02-07T16:34:15.256Z"
   },
   {
    "duration": 88,
    "start_time": "2023-02-07T16:34:23.506Z"
   },
   {
    "duration": 130,
    "start_time": "2023-02-07T16:35:02.449Z"
   },
   {
    "duration": 9,
    "start_time": "2023-02-07T16:35:04.553Z"
   },
   {
    "duration": 10406,
    "start_time": "2023-02-07T16:35:13.284Z"
   },
   {
    "duration": 7,
    "start_time": "2023-02-07T16:35:23.693Z"
   },
   {
    "duration": 2688,
    "start_time": "2023-02-07T16:35:23.702Z"
   },
   {
    "duration": 13,
    "start_time": "2023-02-07T16:35:26.392Z"
   },
   {
    "duration": 82,
    "start_time": "2023-02-07T16:35:26.406Z"
   },
   {
    "duration": 33,
    "start_time": "2023-02-07T16:35:26.490Z"
   },
   {
    "duration": 285,
    "start_time": "2023-02-07T16:35:26.526Z"
   },
   {
    "duration": 4,
    "start_time": "2023-02-07T16:35:26.814Z"
   },
   {
    "duration": 26,
    "start_time": "2023-02-07T16:35:26.820Z"
   },
   {
    "duration": 7,
    "start_time": "2023-02-07T16:35:26.852Z"
   },
   {
    "duration": 124,
    "start_time": "2023-02-07T16:35:26.861Z"
   },
   {
    "duration": 3,
    "start_time": "2023-02-07T16:35:26.986Z"
   },
   {
    "duration": 344,
    "start_time": "2023-02-07T16:35:26.990Z"
   },
   {
    "duration": 528,
    "start_time": "2023-02-07T16:35:27.336Z"
   },
   {
    "duration": 4,
    "start_time": "2023-02-07T16:35:27.866Z"
   },
   {
    "duration": 2355,
    "start_time": "2023-02-07T16:35:27.872Z"
   },
   {
    "duration": 2432633,
    "start_time": "2023-02-07T16:35:30.228Z"
   },
   {
    "duration": 3,
    "start_time": "2023-02-07T17:16:02.863Z"
   },
   {
    "duration": 42,
    "start_time": "2023-02-07T17:16:02.867Z"
   },
   {
    "duration": 51,
    "start_time": "2023-02-07T17:16:02.911Z"
   },
   {
    "duration": 2,
    "start_time": "2023-02-07T17:16:02.964Z"
   },
   {
    "duration": 7,
    "start_time": "2023-02-07T17:16:02.968Z"
   },
   {
    "duration": 1435,
    "start_time": "2023-02-07T17:16:02.976Z"
   },
   {
    "duration": 1248,
    "start_time": "2023-02-07T17:16:04.413Z"
   },
   {
    "duration": 9,
    "start_time": "2023-02-07T17:16:05.662Z"
   },
   {
    "duration": 16,
    "start_time": "2023-02-07T17:16:05.672Z"
   },
   {
    "duration": 3,
    "start_time": "2023-02-07T17:16:05.689Z"
   },
   {
    "duration": 210243,
    "start_time": "2023-02-07T17:16:05.695Z"
   },
   {
    "duration": 124,
    "start_time": "2023-02-07T17:19:35.940Z"
   },
   {
    "duration": 3,
    "start_time": "2023-02-07T17:19:36.065Z"
   },
   {
    "duration": 170747,
    "start_time": "2023-02-07T17:19:36.070Z"
   },
   {
    "duration": 29,
    "start_time": "2023-02-07T17:22:26.819Z"
   },
   {
    "duration": 3,
    "start_time": "2023-02-07T17:22:26.850Z"
   },
   {
    "duration": 5,
    "start_time": "2023-02-07T17:22:26.855Z"
   },
   {
    "duration": 25,
    "start_time": "2023-02-07T17:22:26.862Z"
   }
  ],
  "kernelspec": {
   "display_name": "Python 3 (ipykernel)",
   "language": "python",
   "name": "python3"
  },
  "language_info": {
   "codemirror_mode": {
    "name": "ipython",
    "version": 3
   },
   "file_extension": ".py",
   "mimetype": "text/x-python",
   "name": "python",
   "nbconvert_exporter": "python",
   "pygments_lexer": "ipython3",
   "version": "3.9.5"
  },
  "toc": {
   "base_numbering": 1,
   "nav_menu": {},
   "number_sections": true,
   "sideBar": true,
   "skip_h1_title": true,
   "title_cell": "Содержание",
   "title_sidebar": "Contents",
   "toc_cell": true,
   "toc_position": {
    "height": "calc(100% - 180px)",
    "left": "10px",
    "top": "150px",
    "width": "302.391px"
   },
   "toc_section_display": true,
   "toc_window_display": false
  }
 },
 "nbformat": 4,
 "nbformat_minor": 2
}
